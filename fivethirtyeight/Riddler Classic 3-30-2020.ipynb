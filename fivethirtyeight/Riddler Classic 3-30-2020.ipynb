{
 "cells": [
  {
   "cell_type": "markdown",
   "metadata": {},
   "source": [
    "From Chris Nho comes a question of rolling (and re-rolling) a die:\n",
    "\n",
    "You start with a fair 6-sided die and roll it six times, recording the results of each roll. You then write these numbers on the six faces of another, unlabeled fair die. For example, if your six rolls were 3, 5, 3, 6, 1 and 2, then your second die wouldn’t have a 4 on it; instead, it would have two 3s.\n",
    "\n",
    "Next, you roll this second die six times. You take those six numbers and write them on the faces of yet another fair die, and you continue this process of generating a new die from the previous one.\n",
    "\n",
    "Eventually, you’ll have a die with the same number on all six faces. What is the average number of rolls it will take to reach this state?\n",
    "\n",
    "Extra credit: Instead of a standard 6-sided die, suppose you have an N-sided die, whose sides are numbered from 1 to N. What is the average number of rolls it would take until all N sides show the same number?"
   ]
  },
  {
   "cell_type": "code",
   "execution_count": 1,
   "metadata": {},
   "outputs": [],
   "source": [
    "import numpy as np\n",
    "import pandas as pd\n",
    "\n",
    "from tqdm import tqdm\n",
    "\n",
    "from matplotlib import pyplot as plt\n",
    "%matplotlib inline\n",
    "\n",
    "from joblib import Parallel, delayed"
   ]
  },
  {
   "cell_type": "markdown",
   "metadata": {},
   "source": [
    "# Define a changable die"
   ]
  },
  {
   "cell_type": "code",
   "execution_count": 2,
   "metadata": {},
   "outputs": [],
   "source": [
    "def dice(faces = [1,2,3,4,5,6],\n",
    "         ):\n",
    "    n = len(faces)\n",
    "    p = np.array([1] * n) / n\n",
    "    return np.random.choice(faces,size = 1,p = p)[0]"
   ]
  },
  {
   "cell_type": "markdown",
   "metadata": {},
   "source": [
    "# test a fair die"
   ]
  },
  {
   "cell_type": "code",
   "execution_count": 3,
   "metadata": {},
   "outputs": [
    {
     "name": "stderr",
     "output_type": "stream",
     "text": [
      "100%|███████████████████████████████| 100000/100000 [00:04<00:00, 20466.07it/s]\n"
     ]
    }
   ],
   "source": [
    "results = np.array([dice() for _ in tqdm(range(int(1e5)))])"
   ]
  },
  {
   "cell_type": "code",
   "execution_count": 4,
   "metadata": {},
   "outputs": [
    {
     "data": {
      "text/plain": [
       "[(0, 7)]"
      ]
     },
     "execution_count": 4,
     "metadata": {},
     "output_type": "execute_result"
    },
    {
     "data": {
      "image/png": "[encoded data removed]",
      "text/plain": [
       "<Figure size 432x288 with 1 Axes>"
      ]
     },
     "metadata": {
      "needs_background": "light"
     },
     "output_type": "display_data"
    }
   ],
   "source": [
    "fig,ax = plt.subplots()\n",
    "ax.hist(results.flatten())\n",
    "ax.set(xlim = (0,7))"
   ]
  },
  {
   "cell_type": "markdown",
   "metadata": {},
   "source": [
    "# let's do this experiment once to get an idea of how to functionalize it"
   ]
  },
  {
   "cell_type": "code",
   "execution_count": 5,
   "metadata": {},
   "outputs": [
    {
     "name": "stdout",
     "output_type": "stream",
     "text": [
      "[6 2 2 2 4 4]\n"
     ]
    }
   ],
   "source": [
    "np.random.seed(12345)\n",
    "initial = np.array([dice() for _ in range(6)])\n",
    "print(initial)"
   ]
  },
  {
   "cell_type": "code",
   "execution_count": 6,
   "metadata": {},
   "outputs": [
    {
     "name": "stdout",
     "output_type": "stream",
     "text": [
      "[4 2 4 2 4 4]\n"
     ]
    }
   ],
   "source": [
    "second = np.array([dice(faces = initial) for _ in range(6)])\n",
    "print(second)"
   ]
  },
  {
   "cell_type": "code",
   "execution_count": 7,
   "metadata": {},
   "outputs": [
    {
     "name": "stdout",
     "output_type": "stream",
     "text": [
      "[4 4 2 2 4 4]\n"
     ]
    }
   ],
   "source": [
    "third = np.array([dice(faces = second) for _ in range(6)])\n",
    "print(third)"
   ]
  },
  {
   "cell_type": "markdown",
   "metadata": {},
   "source": [
    "# Ok, I have some ideas about how to functionalize this. "
   ]
  },
  {
   "cell_type": "code",
   "execution_count": 8,
   "metadata": {},
   "outputs": [
    {
     "name": "stdout",
     "output_type": "stream",
     "text": [
      "[3 3 3 3 3 3]\n"
     ]
    }
   ],
   "source": [
    "initial = np.array([dice() for _ in range(6)])\n",
    "unique_faces = np.unique(initial)\n",
    "this_roll = initial.copy()\n",
    "counts = 0\n",
    "for _ in range(int(1e7)):\n",
    "    next_roll = np.array([dice(faces = this_roll) for _ in range(6)])\n",
    "    counts += 1\n",
    "    unique_faces = np.unique(next_roll)\n",
    "    if len(unique_faces) < 2:\n",
    "        break\n",
    "    else:\n",
    "        this_roll = next_roll.copy()\n",
    "        \n",
    "final_roll = next_roll.copy()\n",
    "print(final_roll)"
   ]
  },
  {
   "cell_type": "code",
   "execution_count": 19,
   "metadata": {},
   "outputs": [],
   "source": [
    "def experiment(faces = [1,2,3,4,5,6]):\n",
    "    initial = np.array([dice(faces = faces) for _ in range(len(faces))])\n",
    "    unique_faces = np.unique(initial)\n",
    "    this_roll = initial.copy()\n",
    "    counts = 0\n",
    "    for _ in range(int(1e7)):\n",
    "        next_roll = np.array([dice(faces = this_roll) for _ in range(6)])\n",
    "        counts += 1\n",
    "        unique_faces = np.unique(next_roll)\n",
    "        if len(unique_faces) < 2:\n",
    "            break\n",
    "        else:\n",
    "            this_roll = next_roll.copy()\n",
    "    final_roll = next_roll.copy()\n",
    "    return counts"
   ]
  },
  {
   "cell_type": "code",
   "execution_count": 10,
   "metadata": {},
   "outputs": [
    {
     "name": "stderr",
     "output_type": "stream",
     "text": [
      "[Parallel(n_jobs=-1)]: Using backend LokyBackend with 4 concurrent workers.\n",
      "[Parallel(n_jobs=-1)]: Done 486 tasks      | elapsed:    1.5s\n",
      "[Parallel(n_jobs=-1)]: Done 10086 tasks      | elapsed:   14.8s\n",
      "[Parallel(n_jobs=-1)]: Done 26086 tasks      | elapsed:   36.9s\n",
      "[Parallel(n_jobs=-1)]: Done 48486 tasks      | elapsed:  1.1min\n",
      "[Parallel(n_jobs=-1)]: Done 77286 tasks      | elapsed:  1.9min\n",
      "[Parallel(n_jobs=-1)]: Done 112486 tasks      | elapsed:  2.9min\n",
      "[Parallel(n_jobs=-1)]: Done 154086 tasks      | elapsed:  4.0min\n",
      "[Parallel(n_jobs=-1)]: Done 200000 out of 200000 | elapsed:  5.1min finished\n"
     ]
    }
   ],
   "source": [
    "n_sims = int(2e5)\n",
    "results = Parallel(n_jobs = -1,verbose =1)(delayed(experiment)(**{'faces':[1,2,3,4,5,6]}) for _ in range(n_sims))"
   ]
  },
  {
   "cell_type": "code",
   "execution_count": 13,
   "metadata": {},
   "outputs": [],
   "source": [
    "results = np.array(results)"
   ]
  },
  {
   "cell_type": "code",
   "execution_count": 16,
   "metadata": {},
   "outputs": [
    {
     "data": {
      "text/plain": [
       "<matplotlib.legend.Legend at 0x2b153236988>"
      ]
     },
     "execution_count": 16,
     "metadata": {},
     "output_type": "execute_result"
    },
    {
     "data": {
      "image/png": "[encoded data removed]",
      "text/plain": [
       "<Figure size 432x288 with 1 Axes>"
      ]
     },
     "metadata": {
      "needs_background": "light"
     },
     "output_type": "display_data"
    }
   ],
   "source": [
    "fig,ax = plt.subplots()\n",
    "_=ax.hist(results,bins = 50)\n",
    "_=ax.axvline(results.mean(),\n",
    "             linestyle = '--',\n",
    "             color = 'black',\n",
    "             alpha = 0.7,\n",
    "             label = f'{results.mean():.4f}+/-{results.std():.4f}')\n",
    "ax.legend()"
   ]
  },
  {
   "cell_type": "markdown",
   "metadata": {},
   "source": [
    "# generalize to arbitrary faces"
   ]
  },
  {
   "cell_type": "code",
   "execution_count": 20,
   "metadata": {},
   "outputs": [
    {
     "name": "stderr",
     "output_type": "stream",
     "text": [
      "[Parallel(n_jobs=-1)]: Using backend LokyBackend with 4 concurrent workers.\n",
      "[Parallel(n_jobs=-1)]: Done 3528 tasks      | elapsed:    2.3s\n",
      "[Parallel(n_jobs=-1)]: Done 22728 tasks      | elapsed:   14.2s\n",
      "[Parallel(n_jobs=-1)]: Done 54728 tasks      | elapsed:   33.8s\n",
      "[Parallel(n_jobs=-1)]: Done 100000 out of 100000 | elapsed:  1.1min finished\n"
     ]
    }
   ],
   "source": [
    "n_sims = int(1e5)\n",
    "faces = [1,2]\n",
    "results = Parallel(n_jobs = -1,\n",
    "                   verbose =1,\n",
    "    )(delayed(experiment)(**{'faces':faces}) for _ in range(n_sims))\n",
    "results = np.array(results)"
   ]
  },
  {
   "cell_type": "code",
   "execution_count": 21,
   "metadata": {},
   "outputs": [
    {
     "data": {
      "text/plain": [
       "<matplotlib.legend.Legend at 0x2b151eadc08>"
      ]
     },
     "execution_count": 21,
     "metadata": {},
     "output_type": "execute_result"
    },
    {
     "data": {
      "image/png": "[encoded data removed]",
      "text/plain": [
       "<Figure size 432x288 with 1 Axes>"
      ]
     },
     "metadata": {
      "needs_background": "light"
     },
     "output_type": "display_data"
    }
   ],
   "source": [
    "fig,ax = plt.subplots()\n",
    "_=ax.hist(results,bins = 50)\n",
    "_=ax.axvline(results.mean(),\n",
    "             linestyle = '--',\n",
    "             color = 'black',\n",
    "             alpha = 0.7,\n",
    "             label = f'{results.mean():.4f}+/-{results.std():.4f}')\n",
    "ax.legend()"
   ]
  },
  {
   "cell_type": "code",
   "execution_count": null,
   "metadata": {},
   "outputs": [
    {
     "name": "stderr",
     "output_type": "stream",
     "text": [
      "[Parallel(n_jobs=-1)]: Using backend LokyBackend with 4 concurrent workers.\n",
      "[Parallel(n_jobs=-1)]: Done 3040 tasks      | elapsed:    2.0s\n",
      "[Parallel(n_jobs=-1)]: Done 19240 tasks      | elapsed:   11.9s\n",
      "[Parallel(n_jobs=-1)]: Done 46240 tasks      | elapsed:   28.5s\n",
      "[Parallel(n_jobs=-1)]: Done 84040 tasks      | elapsed:   52.0s\n",
      "[Parallel(n_jobs=-1)]: Done 100000 out of 100000 | elapsed:  1.0min finished\n",
      "[Parallel(n_jobs=-1)]: Using backend LokyBackend with 4 concurrent workers.\n",
      "[Parallel(n_jobs=-1)]: Done 1836 tasks      | elapsed:    1.8s\n",
      "[Parallel(n_jobs=-1)]: Done 11736 tasks      | elapsed:   12.3s\n",
      "[Parallel(n_jobs=-1)]: Done 28236 tasks      | elapsed:   29.2s\n",
      "[Parallel(n_jobs=-1)]: Done 51336 tasks      | elapsed:   52.4s\n"
     ]
    }
   ],
   "source": [
    "results = {}\n",
    "for n_faces in np.arange(2,31):\n",
    "    faces = np.arange(n_faces) + 1\n",
    "    temp = Parallel(n_jobs = -1,\n",
    "                   verbose =1,\n",
    "    )(delayed(experiment)(**{'faces':faces}) for _ in range(n_sims))\n",
    "    temp = np.array(temp)\n",
    "    results[n_faces] = temp\n",
    "results = pd.DataFrame(results)"
   ]
  },
  {
   "cell_type": "code",
   "execution_count": null,
   "metadata": {},
   "outputs": [],
   "source": []
  }
 ],
 "metadata": {
  "kernelspec": {
   "display_name": "Python 3",
   "language": "python",
   "name": "python3"
  },
  "language_info": {
   "codemirror_mode": {
    "name": "ipython",
    "version": 3
   },
   "file_extension": ".py",
   "mimetype": "text/x-python",
   "name": "python",
   "nbconvert_exporter": "python",
   "pygments_lexer": "ipython3",
   "version": "3.7.4"
  }
 },
 "nbformat": 4,
 "nbformat_minor": 2
}
