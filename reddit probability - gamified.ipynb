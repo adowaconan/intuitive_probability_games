{
 "cells": [
  {
   "cell_type": "code",
   "execution_count": 1,
   "metadata": {},
   "outputs": [],
   "source": [
    "import numpy as np\n",
    "import pandas as pd\n",
    "from matplotlib import pyplot as plt\n",
    "import seaborn as sns\n",
    "%matplotlib inline\n",
    "sns.set_style('whitegrid')\n",
    "sns.set_context('poster')"
   ]
  },
  {
   "cell_type": "code",
   "execution_count": 6,
   "metadata": {},
   "outputs": [],
   "source": [
    "number_of_red_cards = np.arange(0,21,1)"
   ]
  },
  {
   "cell_type": "code",
   "execution_count": 5,
   "metadata": {},
   "outputs": [],
   "source": [
    "option_B = np.array([15,19,23,25,27,29,30,31,33,35])"
   ]
  },
  {
   "cell_type": "code",
   "execution_count": 22,
   "metadata": {},
   "outputs": [],
   "source": [
    "n_simulations = int(1e5)\n",
    "results_A = []\n",
    "results_B = []\n",
    "record = []\n",
    "for pick_of_B in option_B:\n",
    "    temp_results_A = []\n",
    "    temp_results_B = []\n",
    "    temp_record = []\n",
    "    for n_simulation in range(n_simulations):\n",
    "        number_of_red_card = np.random.choice(\n",
    "            number_of_red_cards,size=1,)[0]\n",
    "        temp_record.append(number_of_red_card)\n",
    "        deck_of_cards = np.concatenate([['black']*(20-number_of_red_card),\n",
    "                         ['red']*number_of_red_card])\n",
    "        for _ in range(100):\n",
    "            np.random.shuffle(deck_of_cards)\n",
    "        bet = np.random.choice(['black','red'],size=1,)[0]\n",
    "        draw = np.random.choice(deck_of_cards,\n",
    "                               size=1,)[0]\n",
    "        if bet == draw:\n",
    "            temp_results_A.append(60)\n",
    "        else:\n",
    "            temp_results_A.append(0)\n",
    "        temp_results_B.append(pick_of_B)\n",
    "    results_A.append(temp_results_A)\n",
    "    results_B.append(temp_results_B)\n",
    "    record.append(temp_record)"
   ]
  },
  {
   "cell_type": "code",
   "execution_count": 26,
   "metadata": {},
   "outputs": [
    {
     "data": {
      "text/plain": [
       "(array([29.9532, 29.955 , 30.1632, 29.9466, 29.9184, 30.0258, 30.0036,\n",
       "        30.1164, 30.0402, 29.9802]),\n",
       " array([15., 19., 23., 25., 27., 29., 30., 31., 33., 35.]))"
      ]
     },
     "execution_count": 26,
     "metadata": {},
     "output_type": "execute_result"
    }
   ],
   "source": [
    "np.mean(results_A,axis=1),np.mean(results_B,axis=1)"
   ]
  },
  {
   "cell_type": "code",
   "execution_count": 30,
   "metadata": {},
   "outputs": [
    {
     "data": {
      "text/plain": [
       "<matplotlib.axes._subplots.AxesSubplot at 0x253d0fdf940>"
      ]
     },
     "execution_count": 30,
     "metadata": {},
     "output_type": "execute_result"
    },
    {
     "data": {
      "image/png": "[encoded data removed]",
      "text/plain": [
       "<Figure size 432x288 with 1 Axes>"
      ]
     },
     "metadata": {},
     "output_type": "display_data"
    }
   ],
   "source": [
    "sns.countplot(np.concatenate(record))"
   ]
  },
  {
   "cell_type": "markdown",
   "metadata": {},
   "source": [
    "Seems like option A returns around 29 to 31, so anything that is higher than 31 in option B is a better bet."
   ]
  },
  {
   "cell_type": "code",
   "execution_count": null,
   "metadata": {},
   "outputs": [],
   "source": []
  }
 ],
 "metadata": {
  "kernelspec": {
   "display_name": "Python 3",
   "language": "python",
   "name": "python3"
  },
  "language_info": {
   "codemirror_mode": {
    "name": "ipython",
    "version": 3
   },
   "file_extension": ".py",
   "mimetype": "text/x-python",
   "name": "python",
   "nbconvert_exporter": "python",
   "pygments_lexer": "ipython3",
   "version": "3.6.5"
  }
 },
 "nbformat": 4,
 "nbformat_minor": 2
}
