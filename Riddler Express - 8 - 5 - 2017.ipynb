{
 "cells": [
  {
   "cell_type": "markdown",
   "metadata": {},
   "source": [
    "From Chris Thornett, a special game of hot potato:\n",
    "\n",
    "A class of 30 children is playing a game where they all stand in a circle along with their teacher. The teacher is holding two things: a coin and a potato. The game progresses like this: The teacher tosses the coin. Whoever holds the potato passes it to the left if the coin comes up heads and to the right if the coin comes up tails. The game ends when every child except one has held the potato, and the one who hasn’t is declared the winner.\n",
    "\n",
    "How do a child’s chances of winning change depending on where they are in the circle? In other words, what is each child’s win probability?"
   ]
  },
  {
   "cell_type": "code",
   "execution_count": 1,
   "metadata": {
    "collapsed": true
   },
   "outputs": [],
   "source": [
    "import numpy as np\n",
    "import pandas as pd\n",
    "%matplotlib inline\n",
    "from matplotlib import pyplot as plt\n",
    "from collections import Counter"
   ]
  },
  {
   "cell_type": "code",
   "execution_count": 5,
   "metadata": {
    "collapsed": true
   },
   "outputs": [],
   "source": [
    "import seaborn as sns"
   ]
  },
  {
   "cell_type": "code",
   "execution_count": null,
   "metadata": {},
   "outputs": [],
   "source": [
    "df = {'student':[],'winning':[]}\n",
    "for time in range(200):\n",
    "    result = []\n",
    "    for game in range(100):\n",
    "        student = {a:0 for a in np.arange(-15,15)}\n",
    "        hold = 0\n",
    "        for ii in range(int(1e30)):\n",
    "            coin = np.random.choice([0,1],size=1)[0]\n",
    "            if coin:\n",
    "                hold += 1\n",
    "                if hold > 14:\n",
    "                    hold = -15\n",
    "                student[hold] += 1\n",
    "            else:\n",
    "                hold -= 1\n",
    "                if hold < -15:\n",
    "                    hold = 14\n",
    "                student[hold] += 1\n",
    "            check = np.array([value for key,value in student.items()])\n",
    "            if len(np.where(check == 0)[0]) == 1:\n",
    "                break\n",
    "        winner = [key for key,value in student.items() if value == 0][0]\n",
    "        #print('winner:%d,played:%d'%(winner,ii))\n",
    "        result.append(winner)    \n",
    "    for key,value in dict(Counter(result)).items():\n",
    "        df['student'].append(key)\n",
    "        df['winning'].append(value/100)"
   ]
  },
  {
   "cell_type": "code",
   "execution_count": null,
   "metadata": {},
   "outputs": [],
   "source": [
    "df = pd.DataFrame(df)\n",
    "df.groupby('student').describe()"
   ]
  },
  {
   "cell_type": "code",
   "execution_count": null,
   "metadata": {},
   "outputs": [],
   "source": [
    "sns.violinplot(x='student',y='winning',data=df)"
   ]
  },
  {
   "cell_type": "code",
   "execution_count": null,
   "metadata": {
    "collapsed": true
   },
   "outputs": [],
   "source": []
  }
 ],
 "metadata": {
  "kernelspec": {
   "display_name": "Python 3",
   "language": "python",
   "name": "python3"
  },
  "language_info": {
   "codemirror_mode": {
    "name": "ipython",
    "version": 3
   },
   "file_extension": ".py",
   "mimetype": "text/x-python",
   "name": "python",
   "nbconvert_exporter": "python",
   "pygments_lexer": "ipython3",
   "version": "3.5.3"
  }
 },
 "nbformat": 4,
 "nbformat_minor": 2
}
