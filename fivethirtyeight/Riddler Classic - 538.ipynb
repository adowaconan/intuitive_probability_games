{
 "cells": [
  {
   "cell_type": "markdown",
   "metadata": {},
   "source": [
    "From Dan Calistrate, a game-theory-focused poker problem:\n",
    "\n",
    "Baby poker is played by two players, each holding a single die in a cup. The game starts with each player anteing \\$1. Then both shake their die, roll it, and look at their own die only. Player A can then either “call,” in which case both dice are shown and the player with the higher number wins the \\$2 on the table, or Player A can “raise,” betting one more dollar. If A raises, then B has the option to either “call” by matching A’s second dollar, after which the higher number wins the \\$4 on the table, or B can “fold,” in which case A wins but B is out only his original \\$1. No other plays are made, and if the dice match, a called pot is split equally.\n",
    "\n",
    "What is the optimal strategy for each player? Under those strategies, how much is a game of baby poker worth to Player A? In other words, how much should A pay B beforehand to make it a fair game?"
   ]
  },
  {
   "cell_type": "code",
   "execution_count": 1,
   "metadata": {
    "collapsed": true
   },
   "outputs": [],
   "source": [
    "import numpy as np\n",
    "import random\n",
    "from matplotlib import pyplot as plt\n",
    "%matplotlib inline"
   ]
  },
  {
   "cell_type": "markdown",
   "metadata": {},
   "source": [
    "Test if randint is biased"
   ]
  },
  {
   "cell_type": "code",
   "execution_count": 113,
   "metadata": {
    "collapsed": false
   },
   "outputs": [
    {
     "data": {
      "image/png": "[encoded data removed]",
      "text/plain": [
       "<matplotlib.figure.Figure at 0x2a01f7c7f60>"
      ]
     },
     "metadata": {},
     "output_type": "display_data"
    }
   ],
   "source": [
    "a=[]\n",
    "for ii in range(int(1e4)):\n",
    "    a.append(random.randint(1,6))\n",
    "_=plt.hist(a)"
   ]
  },
  {
   "cell_type": "markdown",
   "metadata": {},
   "source": [
    "The ultimuate outcome is either: A > B, A < B, or A = B. However, when:\n",
    "1. A>B: A calls = A +1, B -1; A raises and B calls = A +2, B -2; A raises and B folds = A +1, B -1\n",
    "2. A<B: A calls = A -1, B +1; A raises and B calls = A -2, B +2; A raises and B folds = A +1, B -1\n",
    "3. A=B: A calls = A +0, B +0; A raises and B calls = A +0, B +0; A raises and B folds = A +1, B -1"
   ]
  },
  {
   "cell_type": "markdown",
   "metadata": {},
   "source": [
    "<br />Therefore, when A > B, in long term, A expects to win \\$4 each time and B loses \\$4 each time. \n",
    "<br />Similarly, when A < B, A expects to lose \\$4 each time and B wins \\$4 each time.\n",
    "<br />When A = B, A expects to win \\$1 each time and B loses \\$1 each time."
   ]
  },
  {
   "cell_type": "code",
   "execution_count": 132,
   "metadata": {
    "collapsed": false
   },
   "outputs": [
    {
     "name": "stdout",
     "output_type": "stream",
     "text": [
      "Expected A = 0.1663  Expected B = -0.1663\n"
     ]
    }
   ],
   "source": [
    "simTimes = 1e6\n",
    "result = []\n",
    "for ii in range(int(simTimes)):\n",
    "    A = random.randint(1,6);B = random.randint(1,6)\n",
    "    result.append([A,B])\n",
    "result = np.array(result)\n",
    "\n",
    "Win_A = np.where(result[:,0] > result[:,1])[0]\n",
    "Win_B = np.where(result[:,0] < result[:,1])[0]\n",
    "Tie = np.where(result[:,0] == result[:,1])[0]\n",
    "\n",
    "Prob_A_win = len(Win_A) / simTimes\n",
    "Prob_B_win = len(Win_B) / simTimes\n",
    "Prob_Tie   = len(Tie)   / simTimes\n",
    "\n",
    "Expected_A = Prob_A_win * 4 + Prob_B_win * -4 + Prob_Tie * 1\n",
    "Expected_B = Prob_A_win * -4 + Prob_B_win * 4 + Prob_Tie * -1\n",
    "\n",
    "print('Expected A = %.4f '% Expected_A,'Expected B = %.4f'% Expected_B)"
   ]
  },
  {
   "cell_type": "code",
   "execution_count": null,
   "metadata": {
    "collapsed": true
   },
   "outputs": [],
   "source": [
    "doTimes = 500\n",
    "simTimes = 2e5\n",
    "allResults = []\n",
    "for ii in range(doTimes):\n",
    "    result = []\n",
    "    for jj in range(int(simTimes)):\n",
    "        A = random.randint(1,6);B = random.randint(1,6)\n",
    "        result.append([A,B])\n",
    "    result = np.array(result)\n",
    "    Win_A = np.where(result[:,0] > result[:,1])[0]\n",
    "    Win_B = np.where(result[:,0] < result[:,1])[0]\n",
    "    Tie = np.where(result[:,0] == result[:,1])[0]\n",
    "\n",
    "    Prob_A_win = len(Win_A) / simTimes\n",
    "    Prob_B_win = len(Win_B) / simTimes\n",
    "    Prob_Tie   = len(Tie)   / simTimes\n",
    "\n",
    "    Expected_A = Prob_A_win * 4 + Prob_B_win * -4 + Prob_Tie * 1\n",
    "    Expected_B = Prob_A_win * -4 + Prob_B_win * 4 + Prob_Tie * -1\n",
    "    allResults.append([Expected_A,Expected_B])"
   ]
  },
  {
   "cell_type": "code",
   "execution_count": null,
   "metadata": {
    "collapsed": true
   },
   "outputs": [],
   "source": []
  }
 ],
 "metadata": {
  "kernelspec": {
   "display_name": "Python [Root]",
   "language": "python",
   "name": "Python [Root]"
  },
  "language_info": {
   "codemirror_mode": {
    "name": "ipython",
    "version": 3
   },
   "file_extension": ".py",
   "mimetype": "text/x-python",
   "name": "python",
   "nbconvert_exporter": "python",
   "pygments_lexer": "ipython3",
   "version": "3.5.1"
  }
 },
 "nbformat": 4,
 "nbformat_minor": 0
}
