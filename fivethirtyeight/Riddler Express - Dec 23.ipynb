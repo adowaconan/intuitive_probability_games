{
 "cells": [
  {
   "cell_type": "markdown",
   "metadata": {},
   "source": [
    "Also from Po, a Star Wars blaster battle puzzle:\n",
    "\n",
    "In Star Wars battles, sometimes a severely outnumbered force emerges victorious through superior skill. You panic when you see a group of nine stormtroopers coming at you from very far away in the distance. Fortunately, they are notoriously inaccurate with their blaster fire, with only a 0.1 percent chance of hitting you with each of their shots. You and each stormtrooper fire blasters at the same rate, but you are $K$ times as likely to hit your target with each shot. Furthermore, the stormtroopers walk in a tight formation, and can therefore create a larger target area. Specifically, if there are N stormtroopers left, your chance of hitting one of them is $(K⋅\\sqrt{N})/1000$. Each shot has an independent probability of hitting and immediately taking out its target. For approximately what value of $K$ is this a fair match between you and the stormtroopers (where you have 50 percent chance of blasting all of them)?"
   ]
  },
  {
   "cell_type": "markdown",
   "metadata": {},
   "source": [
    "# [RobShearer solution](https://gist.github.com/rvcx/808d1b669eaa326d9fa2b7cebcf8c359)"
   ]
  },
  {
   "cell_type": "code",
   "execution_count": 14,
   "metadata": {
    "collapsed": false
   },
   "outputs": [
    {
     "name": "stdout",
     "output_type": "stream",
     "text": [
      "500.5 0.946 0.5\n",
      "250.75 0.924 0.5\n",
      "125.875 0.873 0.5\n",
      "63.4375 0.755 0.5\n",
      "32.21875 0.542 0.5\n",
      "16.609375 0.347 0.5\n",
      "24.4140625 0.48 0.5\n",
      "28.31640625 0.543 0.5\n",
      "26.365234375 0.484 0.5\n",
      "27.3408203125 0.504 0.5\n",
      "27.3408203125\n"
     ]
    }
   ],
   "source": [
    "from math import sqrt\n",
    "from random import random\n",
    "\n",
    "def simulate(n, k, base_rate):\n",
    "    while n:\n",
    "        # each storm trooper shoots\n",
    "        for i in range(n):\n",
    "            if random() < base_rate:\n",
    "                return False\n",
    "        # you shoot\n",
    "        if random() < k * base_rate * sqrt(n):\n",
    "            n -= 1\n",
    "    return True\n",
    "\n",
    "def sample(size, func):\n",
    "     return sum(1.0 for x in range(size) if func()) / size\n",
    "\n",
    "def target(tval, min, max, steps, func):\n",
    "    for i in range(steps):\n",
    "        probe = (min + max) / 2.0\n",
    "        val = func(probe)\n",
    "        print(probe, val, tval)\n",
    "        if val < tval:\n",
    "            min = probe\n",
    "        else:\n",
    "            max = probe\n",
    "    return probe\n",
    "\n",
    "print(target(0.5, 1, 1000, 10,lambda k: sample(1000,lambda: simulate(9, k, 0.001))))"
   ]
  },
  {
   "cell_type": "code",
   "execution_count": 2,
   "metadata": {
    "collapsed": true
   },
   "outputs": [],
   "source": [
    "import numpy as np\n",
    "import matplotlib.pyplot as plt\n",
    "%matplotlib inline"
   ]
  },
  {
   "cell_type": "code",
   "execution_count": 11,
   "metadata": {
    "collapsed": true
   },
   "outputs": [],
   "source": [
    "Ks = [1,2,6,10,20,40,80,100]\n",
    "N = np.arange(1,10)"
   ]
  },
  {
   "cell_type": "code",
   "execution_count": 10,
   "metadata": {
    "collapsed": false
   },
   "outputs": [
    {
     "data": {
      "text/plain": [
       "array([ 1,  2,  3,  4,  5,  6,  7,  8,  9, 10, 11, 12, 13, 14, 15, 16, 17,\n",
       "       18, 19, 20, 21, 22, 23, 24, 25, 26, 27, 28, 29, 30])"
      ]
     },
     "execution_count": 10,
     "metadata": {},
     "output_type": "execute_result"
    }
   ],
   "source": []
  },
  {
   "cell_type": "code",
   "execution_count": null,
   "metadata": {
    "collapsed": true
   },
   "outputs": [],
   "source": []
  }
 ],
 "metadata": {
  "anaconda-cloud": {},
  "kernelspec": {
   "display_name": "Python [Root]",
   "language": "python",
   "name": "Python [Root]"
  },
  "language_info": {
   "codemirror_mode": {
    "name": "ipython",
    "version": 3
   },
   "file_extension": ".py",
   "mimetype": "text/x-python",
   "name": "python",
   "nbconvert_exporter": "python",
   "pygments_lexer": "ipython3",
   "version": "3.5.1"
  }
 },
 "nbformat": 4,
 "nbformat_minor": 0
}
