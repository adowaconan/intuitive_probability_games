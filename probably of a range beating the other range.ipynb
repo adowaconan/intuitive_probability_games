{
 "cells": [
  {
   "cell_type": "markdown",
   "metadata": {},
   "source": [
    "https://www.reddit.com/r/probabilitytheory/comments/67c63p/probably_of_a_range_beating_another_range/"
   ]
  },
  {
   "cell_type": "code",
   "execution_count": 52,
   "metadata": {
    "collapsed": false
   },
   "outputs": [
    {
     "name": "stdout",
     "output_type": "stream",
     "text": [
      "DRAW is 0.07407407407407407\n",
      "b wins is 0.8148148148148148\n",
      "a wins is 0.1111111111111111\n"
     ]
    }
   ],
   "source": [
    "import numpy as np\n",
    "MINA = 2\n",
    "MAXA = 7\n",
    "MINB = 4\n",
    "MAXB = 12\n",
    "WIN = 0\n",
    "LOSE = 0\n",
    "DRAW = 0\n",
    "\n",
    "for a in range(MINA, MAXA+1):\n",
    "    for b in range(MINB, MAXB + 1):\n",
    "        if (a > b):\n",
    "            LOSE += 1\n",
    "        if (a == b):\n",
    "            DRAW += 1\n",
    "        if (a < b):\n",
    "            WIN += 1\n",
    "\n",
    "print(\"DRAW is \" + str(DRAW/sum([DRAW,WIN,LOSE])))\n",
    "print(\"b wins is \" + str(WIN/sum([DRAW,WIN,LOSE])))\n",
    "print(\"a wins is \" + str(LOSE/sum([DRAW,WIN,LOSE])))"
   ]
  },
  {
   "cell_type": "code",
   "execution_count": 53,
   "metadata": {
    "collapsed": false
   },
   "outputs": [
    {
     "name": "stdout",
     "output_type": "stream",
     "text": [
      "a: [2 3 4 5 6 7] b: [ 4  5  6  7  8  9 10 11 12]\n"
     ]
    }
   ],
   "source": [
    "a = np.arange(2,8);b = np.arange(4,13)\n",
    "print('a:',a,'b:',b)"
   ]
  },
  {
   "cell_type": "code",
   "execution_count": 54,
   "metadata": {
    "collapsed": true
   },
   "outputs": [],
   "source": [
    "def game(a,b):\n",
    "    pick_a = np.random.choice(a,size=1,replace=False)[0]\n",
    "    pick_b = np.random.choice(b,size=1,replace=False)[0]\n",
    "    if pick_a > pick_b:\n",
    "        return pick_a,pick_b,'a'\n",
    "    elif pick_a == pick_b:\n",
    "        return pick_a,pick_b,'0'\n",
    "    elif pick_a < pick_b:\n",
    "        return pick_a,pick_b,'b'"
   ]
  },
  {
   "cell_type": "markdown",
   "metadata": {},
   "source": [
    "# test the function above:"
   ]
  },
  {
   "cell_type": "code",
   "execution_count": 55,
   "metadata": {
    "collapsed": false
   },
   "outputs": [
    {
     "name": "stdout",
     "output_type": "stream",
     "text": [
      "a: 2 b: 5 result: b\n",
      "a: 3 b: 9 result: b\n",
      "a: 4 b: 11 result: b\n",
      "a: 7 b: 11 result: b\n",
      "a: 7 b: 4 result: a\n",
      "a: 7 b: 10 result: b\n",
      "a: 3 b: 10 result: b\n",
      "a: 5 b: 7 result: b\n",
      "a: 7 b: 6 result: a\n",
      "a: 7 b: 11 result: b\n"
     ]
    }
   ],
   "source": [
    "for ii in range(10):\n",
    "    pick_a,pick_b,result = game(a,b)\n",
    "    print('a:',pick_a,'b:',pick_b,'result:',result)"
   ]
  },
  {
   "cell_type": "code",
   "execution_count": 56,
   "metadata": {
    "collapsed": false
   },
   "outputs": [],
   "source": [
    "repeat_result = []\n",
    "for simulate in range(500):\n",
    "    result = []\n",
    "    for time in range(500):\n",
    "        _,_,temp = game(a,b)\n",
    "        result.append(temp)\n",
    "    result = np.array(result)\n",
    "    prob_a = sum(result == 'a')/len(result)\n",
    "    prob_t = sum(result == '0')/len(result)\n",
    "    prob_b = sum(result == 'b')/len(result)\n",
    "    repeat_result.append([prob_a,prob_t,prob_b])\n",
    "repeat_result = np.array(repeat_result)"
   ]
  },
  {
   "cell_type": "code",
   "execution_count": 57,
   "metadata": {
    "collapsed": true
   },
   "outputs": [],
   "source": [
    "import matplotlib.pyplot as plt\n",
    "%matplotlib inline"
   ]
  },
  {
   "cell_type": "code",
   "execution_count": 58,
   "metadata": {
    "collapsed": false
   },
   "outputs": [
    {
     "data": {
      "image/png": "[encoded data removed]",
      "text/plain": [
       "<matplotlib.figure.Figure at 0x270704c7208>"
      ]
     },
     "metadata": {},
     "output_type": "display_data"
    }
   ],
   "source": [
    "fig, ax = plt.subplots(figsize=(8,8))\n",
    "_=ax.hist(repeat_result[:,0],bins=20,color='blue',label='a wins')\n",
    "_=ax.hist(repeat_result[:,1],bins=20,color='green',label='Tie')\n",
    "_=ax.hist(repeat_result[:,2],bins=20,color='red',label='b wins')\n",
    "_=ax.annotate('P(a wins)=%.2f$\\pm$%.2f'%(repeat_result.mean(0)[0],repeat_result.std(0)[0]),\n",
    "              xy=(repeat_result.mean(0)[0],82))\n",
    "_=ax.annotate('P(Tie)=%.2f$\\pm$%.2f'%(repeat_result.mean(0)[1],repeat_result.std(0)[1]),\n",
    "              xy=(repeat_result.mean(0)[1],80))\n",
    "_=ax.annotate('P(b wins)=%.2f$\\pm$%.2f'%(repeat_result.mean(0)[2],repeat_result.std(0)[2]),\n",
    "              xy=(repeat_result.mean(0)[2],78))\n",
    "_=ax.set(xlim=(0,1.),ylim=(0,100),xlabel='probability',ylabel='Freq',\n",
    "         title='A is 2-7 and B is 4-12')\n",
    "_=ax.legend(loc='lower right')"
   ]
  },
  {
   "cell_type": "markdown",
   "metadata": {},
   "source": [
    "Not exactly the same as the force solution..."
   ]
  },
  {
   "cell_type": "code",
   "execution_count": 59,
   "metadata": {
    "collapsed": false
   },
   "outputs": [
    {
     "name": "stdout",
     "output_type": "stream",
     "text": [
      "a: [ 7  8  9 10 11 12 13 14 15 16 17 18 19 20 21 22 23 24 25 26 27 28 29 30 31\n",
      " 32 33 34 35 36 37 38 39 40 41 42 43 44 45 46 47 48 49 50 51 52 53 54 55 56\n",
      " 57] b: [14 15 16 17 18 19 20 21 22 23 24 25 26 27 28 29 30 31 32 33 34]\n"
     ]
    }
   ],
   "source": [
    "a = np.arange(7,58); b = np.arange(14,35)\n",
    "print('a:',a,'b:',b)"
   ]
  },
  {
   "cell_type": "code",
   "execution_count": 60,
   "metadata": {
    "collapsed": true
   },
   "outputs": [],
   "source": [
    "repeat_result = []\n",
    "for simulate in range(500):\n",
    "    result = []\n",
    "    for time in range(1000):\n",
    "        _,_,temp = game(a,b)\n",
    "        result.append(temp)\n",
    "    result = np.array(result)\n",
    "    prob_a = sum(result == 'a')/len(result)\n",
    "    prob_t = sum(result == '0')/len(result)\n",
    "    prob_b = sum(result == 'b')/len(result)\n",
    "    repeat_result.append([prob_a,prob_t,prob_b])\n",
    "repeat_result = np.array(repeat_result)"
   ]
  },
  {
   "cell_type": "code",
   "execution_count": 61,
   "metadata": {
    "collapsed": false
   },
   "outputs": [
    {
     "data": {
      "image/png": "[encoded data removed]",
      "text/plain": [
       "<matplotlib.figure.Figure at 0x27070591f98>"
      ]
     },
     "metadata": {},
     "output_type": "display_data"
    }
   ],
   "source": [
    "fig, ax = plt.subplots(figsize=(8,8))\n",
    "_=ax.hist(repeat_result[:,0],bins=20,color='blue',label='a wins')\n",
    "_=ax.hist(repeat_result[:,1],bins=20,color='green',label='Tie')\n",
    "_=ax.hist(repeat_result[:,2],bins=20,color='red',label='b wins')\n",
    "_=ax.annotate('P(a wins)=%.2f$\\pm$%.2f'%(repeat_result.mean(0)[0],repeat_result.std(0)[0]),\n",
    "              xy=(repeat_result.mean(0)[0],82))\n",
    "_=ax.annotate('P(Tie)=%.2f$\\pm$%.2f'%(repeat_result.mean(0)[1],repeat_result.std(0)[1]),\n",
    "              xy=(repeat_result.mean(0)[1],80))\n",
    "_=ax.annotate('P(b wins)=%.2f$\\pm$%.2f'%(repeat_result.mean(0)[2],repeat_result.std(0)[2]),\n",
    "              xy=(repeat_result.mean(0)[2],78))\n",
    "_=ax.set(xlim=(0,1.),ylim=(0,100),xlabel='probability',ylabel='Freq',\n",
    "        title='A is 7-47 and B is 14-34')\n",
    "_=ax.legend(loc='lower right')"
   ]
  },
  {
   "cell_type": "code",
   "execution_count": null,
   "metadata": {
    "collapsed": true
   },
   "outputs": [],
   "source": []
  }
 ],
 "metadata": {
  "anaconda-cloud": {},
  "kernelspec": {
   "display_name": "Python [Root]",
   "language": "python",
   "name": "Python [Root]"
  },
  "language_info": {
   "codemirror_mode": {
    "name": "ipython",
    "version": 3
   },
   "file_extension": ".py",
   "mimetype": "text/x-python",
   "name": "python",
   "nbconvert_exporter": "python",
   "pygments_lexer": "ipython3",
   "version": "3.5.1"
  }
 },
 "nbformat": 4,
 "nbformat_minor": 0
}
