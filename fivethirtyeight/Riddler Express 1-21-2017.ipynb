{
 "cells": [
  {
   "cell_type": "markdown",
   "metadata": {},
   "source": [
    "From Christopher Dierkes, a lazy day puzzle:\n",
    "\n",
    "You and I find ourselves indoors one rainy afternoon, with nothing but some loose change in the couch cushions to entertain us. We decide that we’ll take turns flipping a coin, and that the winner will be whoever flips 10 heads first. The winner gets to keep all the change in the couch! Predictably, an enormous argument erupts: We both want to be the one to go first.\n",
    "\n",
    "What is the first flipper’s advantage? In other words, what percentage of the time does the first flipper win this game?"
   ]
  },
  {
   "cell_type": "code",
   "execution_count": 1,
   "metadata": {
    "collapsed": true
   },
   "outputs": [],
   "source": [
    "import numpy as np\n",
    "import random\n",
    "import matplotlib.pyplot as plt\n",
    "%matplotlib inline"
   ]
  },
  {
   "cell_type": "code",
   "execution_count": 9,
   "metadata": {
    "collapsed": true
   },
   "outputs": [],
   "source": [
    "def coin(p=0.5):\n",
    "    temp = (np.random.rand(1) < 0.5).astype(int)\n",
    "    return temp"
   ]
  },
  {
   "cell_type": "markdown",
   "metadata": {},
   "source": [
    "# Demonstrate the coin function is not biased"
   ]
  },
  {
   "cell_type": "code",
   "execution_count": 43,
   "metadata": {
    "collapsed": false,
    "scrolled": true
   },
   "outputs": [
    {
     "data": {
      "image/png": "[encoded data removed]",
      "text/plain": [
       "<matplotlib.figure.Figure at 0x255c77772b0>"
      ]
     },
     "metadata": {},
     "output_type": "display_data"
    }
   ],
   "source": [
    "temp=[]\n",
    "for ii in range(100):\n",
    "    temp.append(coin())\n",
    "_=plt.hist(temp)"
   ]
  },
  {
   "cell_type": "markdown",
   "metadata": {},
   "source": [
    "# Let's start the game"
   ]
  },
  {
   "cell_type": "code",
   "execution_count": 81,
   "metadata": {
    "collapsed": false,
    "scrolled": true
   },
   "outputs": [],
   "source": [
    "winning=[]\n",
    "doTime = 500\n",
    "simTime = 500\n",
    "for kk in range(doTime):\n",
    "    result = [];simulate_outcomes=[]\n",
    "    for jj in range(simTime):\n",
    "        for ii in range(int(1e9)):\n",
    "            result.append([coin(),coin()])\n",
    "            if (np.array(result)[:,0].sum() >=10):\n",
    "                simulate_outcomes.append('A')\n",
    "                break\n",
    "            elif (np.array(result)[:,1].sum()>=10):\n",
    "                simulate_outcomes.append('B')\n",
    "                break\n",
    "    simulate_outcomes = np.array(simulate_outcomes)\n",
    "    win_A = len(np.where(simulate_outcomes == 'A')[0])/simTime\n",
    "    win_B = len(np.where(simulate_outcomes == 'B')[0])/simTime\n",
    "    winning.append([win_A,win_B])"
   ]
  },
  {
   "cell_type": "code",
   "execution_count": 91,
   "metadata": {
    "collapsed": false,
    "scrolled": false
   },
   "outputs": [
    {
     "data": {
      "text/plain": [
       "<matplotlib.legend.Legend at 0x255cbef1400>"
      ]
     },
     "execution_count": 91,
     "metadata": {},
     "output_type": "execute_result"
    },
    {
     "data": {
      "image/png": "[encoded data removed]",
      "text/plain": [
       "<matplotlib.figure.Figure at 0x255caa5f320>"
      ]
     },
     "metadata": {},
     "output_type": "display_data"
    }
   ],
   "source": [
    "winning = np.array(winning)\n",
    "fig, ax = plt.subplots(figsize=(12,5))\n",
    "_=ax.hist(winning[:,0],color='green',label='Prob of first flipper wins')\n",
    "_=ax.hist(winning[:,1],color='yellow',label='Prob of second flipper wins')\n",
    "_=ax.set(xlabel='Probability to win',ylabel='frequency')\n",
    "ax.legend(loc='best')"
   ]
  },
  {
   "cell_type": "code",
   "execution_count": 93,
   "metadata": {
    "collapsed": false
   },
   "outputs": [
    {
     "name": "stdout",
     "output_type": "stream",
     "text": [
      "Highest probability that the second flipper wins is 0.0340\n",
      "Lowest probability that the first flipper wins is 0.9660\n"
     ]
    }
   ],
   "source": [
    "print('Highest probability that the second flipper wins is %.4f'% winning[:,1].max())\n",
    "print('Lowest probability that the first flipper wins is %.4f'% winning[:,0].min())"
   ]
  },
  {
   "cell_type": "code",
   "execution_count": null,
   "metadata": {
    "collapsed": true
   },
   "outputs": [],
   "source": []
  }
 ],
 "metadata": {
  "kernelspec": {
   "display_name": "Python [Root]",
   "language": "python",
   "name": "Python [Root]"
  },
  "language_info": {
   "codemirror_mode": {
    "name": "ipython",
    "version": 3
   },
   "file_extension": ".py",
   "mimetype": "text/x-python",
   "name": "python",
   "nbconvert_exporter": "python",
   "pygments_lexer": "ipython3",
   "version": "3.5.1"
  }
 },
 "nbformat": 4,
 "nbformat_minor": 0
}
