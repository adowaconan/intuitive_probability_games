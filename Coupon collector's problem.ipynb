{
 "cells": [
  {
   "cell_type": "code",
   "execution_count": 1,
   "metadata": {},
   "outputs": [],
   "source": [
    "import numpy as np\n",
    "import pandas as pd\n",
    "import matplotlib.pyplot as plt\n",
    "import seaborn as sns\n",
    "from tqdm import tqdm\n",
    "%matplotlib inline"
   ]
  },
  {
   "cell_type": "code",
   "execution_count": 2,
   "metadata": {},
   "outputs": [
    {
     "name": "stdout",
     "output_type": "stream",
     "text": [
      "[3, 1, 0, 2, 4]\n"
     ]
    }
   ],
   "source": [
    "n = 5\n",
    "coupon_I_have = []\n",
    "coupon_for_collect = np.arange(n)\n",
    "for ii in range(int(1e3)):\n",
    "    buy = np.random.choice(coupon_for_collect,size=1,replace=True,)[0]\n",
    "    coupon_I_have.append(buy)\n",
    "    if len(np.unique(coupon_I_have)) == n:\n",
    "        break\n",
    "print(coupon_I_have)"
   ]
  },
  {
   "cell_type": "code",
   "execution_count": 3,
   "metadata": {},
   "outputs": [],
   "source": [
    "def simulate_for_n(n):\n",
    "    coupon_I_have = []\n",
    "    coupon_for_collect = np.arange(n)\n",
    "    for ii in range(int(1e7)):\n",
    "        buy = np.random.choice(coupon_for_collect,size=1,replace=True,)[0]\n",
    "        coupon_I_have.append(buy)\n",
    "        if len(np.unique(coupon_I_have)) == n:\n",
    "            break\n",
    "    return coupon_I_have"
   ]
  },
  {
   "cell_type": "code",
   "execution_count": 4,
   "metadata": {
    "scrolled": true
   },
   "outputs": [
    {
     "name": "stdout",
     "output_type": "stream",
     "text": [
      "simulate 0, got 5 coupons\n",
      "simulate 1, got 18 coupons\n",
      "simulate 2, got 7 coupons\n",
      "simulate 3, got 10 coupons\n",
      "simulate 4, got 18 coupons\n",
      "simulate 5, got 14 coupons\n",
      "simulate 6, got 19 coupons\n",
      "simulate 7, got 6 coupons\n",
      "simulate 8, got 17 coupons\n",
      "simulate 9, got 7 coupons\n"
     ]
    }
   ],
   "source": [
    "n = 5\n",
    "for ii in range(10):\n",
    "    coupons = simulate_for_n(n)\n",
    "    print('simulate %d, got %d coupons'%(ii,len(coupons)))"
   ]
  },
  {
   "cell_type": "markdown",
   "metadata": {},
   "source": [
    "# let's simulate n from 1 to 20"
   ]
  },
  {
   "cell_type": "code",
   "execution_count": 5,
   "metadata": {
    "scrolled": true
   },
   "outputs": [
    {
     "name": "stderr",
     "output_type": "stream",
     "text": [
      "1: 100%|████████████████████████████| 100000/100000 [00:04<00:00, 20552.08it/s]\n",
      "2: 100%|█████████████████████████████| 100000/100000 [00:12<00:00, 8191.96it/s]\n",
      "3: 100%|█████████████████████████████| 100000/100000 [00:20<00:00, 4871.33it/s]\n",
      "4: 100%|█████████████████████████████| 100000/100000 [00:31<00:00, 3218.49it/s]\n",
      "5: 100%|█████████████████████████████| 100000/100000 [00:39<00:00, 2503.21it/s]\n",
      "6: 100%|█████████████████████████████| 100000/100000 [00:55<00:00, 1796.88it/s]\n",
      "7: 100%|█████████████████████████████| 100000/100000 [01:06<00:00, 1507.32it/s]\n",
      "8: 100%|█████████████████████████████| 100000/100000 [01:19<00:00, 1264.58it/s]\n",
      "9: 100%|█████████████████████████████| 100000/100000 [01:37<00:00, 1020.58it/s]\n",
      "10: 100%|█████████████████████████████| 100000/100000 [01:40<00:00, 993.27it/s]\n",
      "11: 100%|█████████████████████████████| 100000/100000 [02:12<00:00, 755.46it/s]\n",
      "12: 100%|█████████████████████████████| 100000/100000 [02:23<00:00, 695.46it/s]\n",
      "13: 100%|█████████████████████████████| 100000/100000 [02:32<00:00, 656.75it/s]\n",
      "14: 100%|█████████████████████████████| 100000/100000 [02:48<00:00, 592.83it/s]\n",
      "15: 100%|█████████████████████████████| 100000/100000 [03:06<00:00, 536.38it/s]\n",
      "16: 100%|█████████████████████████████| 100000/100000 [03:29<00:00, 477.30it/s]\n",
      "17: 100%|█████████████████████████████| 100000/100000 [04:23<00:00, 379.43it/s]\n",
      "18: 100%|█████████████████████████████| 100000/100000 [04:35<00:00, 362.48it/s]\n",
      "19: 100%|█████████████████████████████| 100000/100000 [05:10<00:00, 322.24it/s]\n",
      "20: 100%|█████████████████████████████| 100000/100000 [05:31<00:00, 301.39it/s]\n"
     ]
    }
   ],
   "source": [
    "results = []\n",
    "for n in np.arange(1,21,):\n",
    "    for simulate in tqdm(range(int(1e5)),desc='%d'%n):\n",
    "        coupons = simulate_for_n(n)\n",
    "        results.append([n,simulate,len(coupons)])"
   ]
  },
  {
   "cell_type": "code",
   "execution_count": 6,
   "metadata": {},
   "outputs": [],
   "source": [
    "results_ = pd.DataFrame(results,columns=['N','simulate','Coupons'])"
   ]
  },
  {
   "cell_type": "code",
   "execution_count": 11,
   "metadata": {},
   "outputs": [
    {
     "data": {
      "text/plain": [
       "<matplotlib.legend.Legend at 0x1e32a152860>"
      ]
     },
     "execution_count": 11,
     "metadata": {},
     "output_type": "execute_result"
    },
    {
     "data": {
      "image/png": "[encoded data removed]",
      "text/plain": [
       "<matplotlib.figure.Figure at 0x1e329f81da0>"
      ]
     },
     "metadata": {},
     "output_type": "display_data"
    }
   ],
   "source": [
    "fig, ax = plt.subplots(figsize=(15,7))\n",
    "median_ = results_.groupby('N').median()['Coupons'].values\n",
    "mean_ = results_.groupby('N').median()['Coupons'].values\n",
    "std = results_.groupby('N').std()['Coupons'].values\n",
    "ax.errorbar(x=np.arange(1,21),y=mean_,yerr=std,\n",
    "            label='mean',color='red')\n",
    "ax.plot(np.arange(1,21),median_,\n",
    "       label='median',color='blue')\n",
    "ax.set(xlabel='# of coupons for collection',\n",
    "       ylabel='# of box of cake need to buy',\n",
    "       xticks=np.arange(5,21))\n",
    "ax.legend()"
   ]
  },
  {
   "cell_type": "code",
   "execution_count": 13,
   "metadata": {},
   "outputs": [
    {
     "name": "stdout",
     "output_type": "stream",
     "text": [
      "chance to get all 1 coupons with 1 purchase is: 1.000000\n",
      "chance to get all 2 coupons with 2 purchase is: 0.500190\n",
      "chance to get all 3 coupons with 3 purchase is: 0.220690\n",
      "chance to get all 4 coupons with 4 purchase is: 0.094180\n",
      "chance to get all 5 coupons with 5 purchase is: 0.037790\n",
      "chance to get all 6 coupons with 6 purchase is: 0.015550\n",
      "chance to get all 7 coupons with 7 purchase is: 0.006100\n",
      "chance to get all 8 coupons with 8 purchase is: 0.002230\n",
      "chance to get all 9 coupons with 9 purchase is: 0.000920\n",
      "chance to get all 10 coupons with 10 purchase is: 0.000290\n",
      "chance to get all 11 coupons with 11 purchase is: 0.000120\n",
      "chance to get all 12 coupons with 12 purchase is: 0.000070\n",
      "chance to get all 13 coupons with 13 purchase is: 0.000000\n",
      "chance to get all 14 coupons with 14 purchase is: 0.000000\n",
      "chance to get all 15 coupons with 15 purchase is: 0.000000\n",
      "chance to get all 16 coupons with 16 purchase is: 0.000000\n",
      "chance to get all 17 coupons with 17 purchase is: 0.000000\n",
      "chance to get all 18 coupons with 18 purchase is: 0.000000\n",
      "chance to get all 19 coupons with 19 purchase is: 0.000000\n",
      "chance to get all 20 coupons with 20 purchase is: 0.000000\n"
     ]
    }
   ],
   "source": [
    "for n in np.arange(1,21):\n",
    "    temp_df = results_[results_['N'] == n]\n",
    "    prob_ = np.sum(temp_df['Coupons'] == n)/int(1e5)\n",
    "    print(\"chance to get all %d coupons with %d purchase is: %.6f\"%(n,n,prob_))"
   ]
  },
  {
   "cell_type": "markdown",
   "metadata": {},
   "source": [
    "reference:\n",
    "https://www.youtube.com/watch?v=3mu47FWEuqA\n",
    "<br />Say $y_i$ is the time/position i^{th} new coupon occurs when I buy a new box of cake\n",
    "<br />what we want to know is the expected value of $y_i$, where i is k (here we use k = 6)\n",
    "<br />$X_i$ is the difference between $y_{i+1}$ and $y_i$, in other words, we compute the distance between each time we get a new coupon. Keep in mind that $y_0$ occurs always at the 0 time/position, and $X_0$ is always ONE because $y_1$ occurs always at the first time/position.\n",
    "<br />Thus, $$y_6=\\sum^5_{i=0}X_i$$because quick math\n",
    "and, $$X_i = Geometric(\\frac{6 - i}{6})$$\n",
    "thus, the expected value of $X_i$ is the inverse of the Geometric distribution\n",
    "$$\\mathbb{E}[X_i] = \\frac{6}{6-i}=6\\frac{1}{6-i}$$\n",
    "\n",
    "$$\\mathbb{E}[y_6]=\\mathbb{E}[\\sum^5_{i=0}X_i]$$\n",
    "$$=\\sum^5_{i=0}\\mathbb{E}[X_i]$$\n",
    "$$=\\sum^5_{i=0}\\mathbb{E}[6\\frac{1}{6-i}]$$\n",
    "$$=6\\sum^5_{i=0}\\frac{1}{6-i}$$\n",
    "$$=6\\sum^6_{i=1}\\frac{1}{i}$$\n",
    "$$=14.7$$\n",
    "In fact, the expected value of $y_k$, where $k>1$ is:\n",
    "$$K\\sum^{k}_{i=1}\\approx K ln(K)$$"
   ]
  },
  {
   "cell_type": "markdown",
   "metadata": {},
   "source": [
    "To [approximate](http://mat.uab.cat/matmat/PDFv2014/v2014n02.pdf):\n",
    "\n",
    "$$\\sum^K_{i=1}\\frac{1}{i}=log(N) + \\gamma +frac{1}{2N} + O(\\frac{1}{N^2})$$\n",
    "where $\\gamma \\approx 0.5772156649$ is the Euler-Mascheroni constant. "
   ]
  },
  {
   "cell_type": "code",
   "execution_count": null,
   "metadata": {},
   "outputs": [],
   "source": []
  }
 ],
 "metadata": {
  "kernelspec": {
   "display_name": "Python 3",
   "language": "python",
   "name": "python3"
  },
  "language_info": {
   "codemirror_mode": {
    "name": "ipython",
    "version": 3
   },
   "file_extension": ".py",
   "mimetype": "text/x-python",
   "name": "python",
   "nbconvert_exporter": "python",
   "pygments_lexer": "ipython3",
   "version": "3.5.2"
  }
 },
 "nbformat": 4,
 "nbformat_minor": 2
}
