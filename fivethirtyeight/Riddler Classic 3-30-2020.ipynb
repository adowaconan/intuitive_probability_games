{
 "cells": [
  {
   "cell_type": "markdown",
   "metadata": {},
   "source": [
    "From Chris Nho comes a question of rolling (and re-rolling) a die:\n",
    "\n",
    "You start with a fair 6-sided die and roll it six times, recording the results of each roll. You then write these numbers on the six faces of another, unlabeled fair die. For example, if your six rolls were 3, 5, 3, 6, 1 and 2, then your second die wouldn’t have a 4 on it; instead, it would have two 3s.\n",
    "\n",
    "Next, you roll this second die six times. You take those six numbers and write them on the faces of yet another fair die, and you continue this process of generating a new die from the previous one.\n",
    "\n",
    "Eventually, you’ll have a die with the same number on all six faces. What is the average number of rolls it will take to reach this state?\n",
    "\n",
    "Extra credit: Instead of a standard 6-sided die, suppose you have an N-sided die, whose sides are numbered from 1 to N. What is the average number of rolls it would take until all N sides show the same number?"
   ]
  },
  {
   "cell_type": "code",
   "execution_count": 29,
   "metadata": {},
   "outputs": [],
   "source": [
    "import numpy as np\n",
    "import pandas as pd\n",
    "import seaborn as sns\n",
    "\n",
    "from tqdm import tqdm\n",
    "\n",
    "from matplotlib import pyplot as plt\n",
    "%matplotlib inline\n",
    "\n",
    "from joblib import Parallel, delayed\n",
    "\n",
    "sns.set_style('whitegrid')\n",
    "sns.set_context('poster')"
   ]
  },
  {
   "cell_type": "markdown",
   "metadata": {},
   "source": [
    "# Define a changable die"
   ]
  },
  {
   "cell_type": "code",
   "execution_count": 2,
   "metadata": {},
   "outputs": [],
   "source": [
    "def dice(faces = [1,2,3,4,5,6],\n",
    "         ):\n",
    "    n = len(faces)\n",
    "    p = np.array([1] * n) / n\n",
    "    return np.random.choice(faces,size = 1,p = p)[0]"
   ]
  },
  {
   "cell_type": "markdown",
   "metadata": {},
   "source": [
    "# test a fair die"
   ]
  },
  {
   "cell_type": "code",
   "execution_count": 3,
   "metadata": {},
   "outputs": [
    {
     "name": "stderr",
     "output_type": "stream",
     "text": [
      "100%|███████████████████████████████| 100000/100000 [00:04<00:00, 20466.07it/s]\n"
     ]
    }
   ],
   "source": [
    "results = np.array([dice() for _ in tqdm(range(int(1e5)))])"
   ]
  },
  {
   "cell_type": "code",
   "execution_count": 4,
   "metadata": {},
   "outputs": [
    {
     "data": {
      "text/plain": [
       "[(0, 7)]"
      ]
     },
     "execution_count": 4,
     "metadata": {},
     "output_type": "execute_result"
    },
    {
     "data": {
      "image/png": "[encoded data removed]",
      "text/plain": [
       "<Figure size 432x288 with 1 Axes>"
      ]
     },
     "metadata": {
      "needs_background": "light"
     },
     "output_type": "display_data"
    }
   ],
   "source": [
    "fig,ax = plt.subplots()\n",
    "ax.hist(results.flatten())\n",
    "ax.set(xlim = (0,7))"
   ]
  },
  {
   "cell_type": "markdown",
   "metadata": {},
   "source": [
    "# let's do this experiment once to get an idea of how to functionalize it"
   ]
  },
  {
   "cell_type": "code",
   "execution_count": 5,
   "metadata": {},
   "outputs": [
    {
     "name": "stdout",
     "output_type": "stream",
     "text": [
      "[6 2 2 2 4 4]\n"
     ]
    }
   ],
   "source": [
    "np.random.seed(12345)\n",
    "initial = np.array([dice() for _ in range(6)])\n",
    "print(initial)"
   ]
  },
  {
   "cell_type": "code",
   "execution_count": 6,
   "metadata": {},
   "outputs": [
    {
     "name": "stdout",
     "output_type": "stream",
     "text": [
      "[4 2 4 2 4 4]\n"
     ]
    }
   ],
   "source": [
    "second = np.array([dice(faces = initial) for _ in range(6)])\n",
    "print(second)"
   ]
  },
  {
   "cell_type": "code",
   "execution_count": 7,
   "metadata": {},
   "outputs": [
    {
     "name": "stdout",
     "output_type": "stream",
     "text": [
      "[4 4 2 2 4 4]\n"
     ]
    }
   ],
   "source": [
    "third = np.array([dice(faces = second) for _ in range(6)])\n",
    "print(third)"
   ]
  },
  {
   "cell_type": "markdown",
   "metadata": {},
   "source": [
    "# Ok, I have some ideas about how to functionalize this. "
   ]
  },
  {
   "cell_type": "code",
   "execution_count": 8,
   "metadata": {},
   "outputs": [
    {
     "name": "stdout",
     "output_type": "stream",
     "text": [
      "[3 3 3 3 3 3]\n"
     ]
    }
   ],
   "source": [
    "initial = np.array([dice() for _ in range(6)])\n",
    "unique_faces = np.unique(initial)\n",
    "this_roll = initial.copy()\n",
    "counts = 0\n",
    "for _ in range(int(1e7)):\n",
    "    next_roll = np.array([dice(faces = this_roll) for _ in range(6)])\n",
    "    counts += 1\n",
    "    unique_faces = np.unique(next_roll)\n",
    "    if len(unique_faces) < 2:\n",
    "        break\n",
    "    else:\n",
    "        this_roll = next_roll.copy()\n",
    "        \n",
    "final_roll = next_roll.copy()\n",
    "print(final_roll)"
   ]
  },
  {
   "cell_type": "code",
   "execution_count": 19,
   "metadata": {},
   "outputs": [],
   "source": [
    "def experiment(faces = [1,2,3,4,5,6]):\n",
    "    initial = np.array([dice(faces = faces) for _ in range(len(faces))])\n",
    "    unique_faces = np.unique(initial)\n",
    "    this_roll = initial.copy()\n",
    "    counts = 0\n",
    "    for _ in range(int(1e7)):\n",
    "        next_roll = np.array([dice(faces = this_roll) for _ in range(6)])\n",
    "        counts += 1\n",
    "        unique_faces = np.unique(next_roll)\n",
    "        if len(unique_faces) < 2:\n",
    "            break\n",
    "        else:\n",
    "            this_roll = next_roll.copy()\n",
    "    final_roll = next_roll.copy()\n",
    "    return counts"
   ]
  },
  {
   "cell_type": "code",
   "execution_count": 10,
   "metadata": {},
   "outputs": [
    {
     "name": "stderr",
     "output_type": "stream",
     "text": [
      "[Parallel(n_jobs=-1)]: Using backend LokyBackend with 4 concurrent workers.\n",
      "[Parallel(n_jobs=-1)]: Done 486 tasks      | elapsed:    1.5s\n",
      "[Parallel(n_jobs=-1)]: Done 10086 tasks      | elapsed:   14.8s\n",
      "[Parallel(n_jobs=-1)]: Done 26086 tasks      | elapsed:   36.9s\n",
      "[Parallel(n_jobs=-1)]: Done 48486 tasks      | elapsed:  1.1min\n",
      "[Parallel(n_jobs=-1)]: Done 77286 tasks      | elapsed:  1.9min\n",
      "[Parallel(n_jobs=-1)]: Done 112486 tasks      | elapsed:  2.9min\n",
      "[Parallel(n_jobs=-1)]: Done 154086 tasks      | elapsed:  4.0min\n",
      "[Parallel(n_jobs=-1)]: Done 200000 out of 200000 | elapsed:  5.1min finished\n"
     ]
    }
   ],
   "source": [
    "n_sims = int(2e5)\n",
    "results = Parallel(n_jobs = -1,verbose =1)(delayed(experiment)(**{'faces':[1,2,3,4,5,6]}) for _ in range(n_sims))"
   ]
  },
  {
   "cell_type": "code",
   "execution_count": 13,
   "metadata": {},
   "outputs": [],
   "source": [
    "results = np.array(results)"
   ]
  },
  {
   "cell_type": "code",
   "execution_count": 16,
   "metadata": {},
   "outputs": [
    {
     "data": {
      "text/plain": [
       "<matplotlib.legend.Legend at 0x2b153236988>"
      ]
     },
     "execution_count": 16,
     "metadata": {},
     "output_type": "execute_result"
    },
    {
     "data": {
      "image/png": "[encoded data removed]",
      "text/plain": [
       "<Figure size 432x288 with 1 Axes>"
      ]
     },
     "metadata": {
      "needs_background": "light"
     },
     "output_type": "display_data"
    }
   ],
   "source": [
    "fig,ax = plt.subplots()\n",
    "_=ax.hist(results,bins = 50)\n",
    "_=ax.axvline(results.mean(),\n",
    "             linestyle = '--',\n",
    "             color = 'black',\n",
    "             alpha = 0.7,\n",
    "             label = f'{results.mean():.4f}+/-{results.std():.4f}')\n",
    "ax.legend()"
   ]
  },
  {
   "cell_type": "markdown",
   "metadata": {},
   "source": [
    "# generalize to arbitrary faces"
   ]
  },
  {
   "cell_type": "code",
   "execution_count": 20,
   "metadata": {},
   "outputs": [
    {
     "name": "stderr",
     "output_type": "stream",
     "text": [
      "[Parallel(n_jobs=-1)]: Using backend LokyBackend with 4 concurrent workers.\n",
      "[Parallel(n_jobs=-1)]: Done 3528 tasks      | elapsed:    2.3s\n",
      "[Parallel(n_jobs=-1)]: Done 22728 tasks      | elapsed:   14.2s\n",
      "[Parallel(n_jobs=-1)]: Done 54728 tasks      | elapsed:   33.8s\n",
      "[Parallel(n_jobs=-1)]: Done 100000 out of 100000 | elapsed:  1.1min finished\n"
     ]
    }
   ],
   "source": [
    "n_sims = int(1e5)\n",
    "faces = [1,2]\n",
    "results = Parallel(n_jobs = -1,\n",
    "                   verbose =1,\n",
    "    )(delayed(experiment)(**{'faces':faces}) for _ in range(n_sims))\n",
    "results = np.array(results)"
   ]
  },
  {
   "cell_type": "code",
   "execution_count": 21,
   "metadata": {},
   "outputs": [
    {
     "data": {
      "text/plain": [
       "<matplotlib.legend.Legend at 0x2b151eadc08>"
      ]
     },
     "execution_count": 21,
     "metadata": {},
     "output_type": "execute_result"
    },
    {
     "data": {
      "image/png": "[encoded data removed]",
      "text/plain": [
       "<Figure size 432x288 with 1 Axes>"
      ]
     },
     "metadata": {
      "needs_background": "light"
     },
     "output_type": "display_data"
    }
   ],
   "source": [
    "fig,ax = plt.subplots()\n",
    "_=ax.hist(results,bins = 50)\n",
    "_=ax.axvline(results.mean(),\n",
    "             linestyle = '--',\n",
    "             color = 'black',\n",
    "             alpha = 0.7,\n",
    "             label = f'{results.mean():.4f}+/-{results.std():.4f}')\n",
    "ax.legend()"
   ]
  },
  {
   "cell_type": "code",
   "execution_count": 22,
   "metadata": {},
   "outputs": [
    {
     "name": "stderr",
     "output_type": "stream",
     "text": [
      "[Parallel(n_jobs=-1)]: Using backend LokyBackend with 4 concurrent workers.\n",
      "[Parallel(n_jobs=-1)]: Done 3040 tasks      | elapsed:    2.0s\n",
      "[Parallel(n_jobs=-1)]: Done 19240 tasks      | elapsed:   11.9s\n",
      "[Parallel(n_jobs=-1)]: Done 46240 tasks      | elapsed:   28.5s\n",
      "[Parallel(n_jobs=-1)]: Done 84040 tasks      | elapsed:   52.0s\n",
      "[Parallel(n_jobs=-1)]: Done 100000 out of 100000 | elapsed:  1.0min finished\n",
      "[Parallel(n_jobs=-1)]: Using backend LokyBackend with 4 concurrent workers.\n",
      "[Parallel(n_jobs=-1)]: Done 1836 tasks      | elapsed:    1.8s\n",
      "[Parallel(n_jobs=-1)]: Done 11736 tasks      | elapsed:   12.3s\n",
      "[Parallel(n_jobs=-1)]: Done 28236 tasks      | elapsed:   29.2s\n",
      "[Parallel(n_jobs=-1)]: Done 51336 tasks      | elapsed:   52.4s\n",
      "[Parallel(n_jobs=-1)]: Done 81036 tasks      | elapsed:  1.4min\n",
      "[Parallel(n_jobs=-1)]: Done 100000 out of 100000 | elapsed:  1.7min finished\n",
      "[Parallel(n_jobs=-1)]: Using backend LokyBackend with 4 concurrent workers.\n",
      "[Parallel(n_jobs=-1)]: Done 1676 tasks      | elapsed:    2.0s\n",
      "[Parallel(n_jobs=-1)]: Done 12776 tasks      | elapsed:   14.9s\n",
      "[Parallel(n_jobs=-1)]: Done 31276 tasks      | elapsed:   38.1s\n",
      "[Parallel(n_jobs=-1)]: Done 57176 tasks      | elapsed:  1.1min\n",
      "[Parallel(n_jobs=-1)]: Done 90476 tasks      | elapsed:  1.8min\n",
      "[Parallel(n_jobs=-1)]: Done 100000 out of 100000 | elapsed:  2.0min finished\n",
      "[Parallel(n_jobs=-1)]: Using backend LokyBackend with 4 concurrent workers.\n",
      "[Parallel(n_jobs=-1)]: Done 1352 tasks      | elapsed:    1.7s\n",
      "[Parallel(n_jobs=-1)]: Done 8552 tasks      | elapsed:   10.7s\n",
      "[Parallel(n_jobs=-1)]: Done 20552 tasks      | elapsed:   25.4s\n",
      "[Parallel(n_jobs=-1)]: Done 37352 tasks      | elapsed:   46.1s\n",
      "[Parallel(n_jobs=-1)]: Done 58952 tasks      | elapsed:  1.2min\n",
      "[Parallel(n_jobs=-1)]: Done 85352 tasks      | elapsed:  1.8min\n",
      "[Parallel(n_jobs=-1)]: Done 100000 out of 100000 | elapsed:  2.1min finished\n",
      "[Parallel(n_jobs=-1)]: Using backend LokyBackend with 4 concurrent workers.\n",
      "[Parallel(n_jobs=-1)]: Done 1192 tasks      | elapsed:    2.2s\n",
      "[Parallel(n_jobs=-1)]: Done 7192 tasks      | elapsed:   13.1s\n",
      "[Parallel(n_jobs=-1)]: Done 17192 tasks      | elapsed:   28.6s\n",
      "[Parallel(n_jobs=-1)]: Done 31192 tasks      | elapsed:   50.8s\n",
      "[Parallel(n_jobs=-1)]: Done 49192 tasks      | elapsed:  1.3min\n",
      "[Parallel(n_jobs=-1)]: Done 71192 tasks      | elapsed:  1.9min\n",
      "[Parallel(n_jobs=-1)]: Done 97192 tasks      | elapsed:  2.6min\n",
      "[Parallel(n_jobs=-1)]: Done 100000 out of 100000 | elapsed:  2.6min finished\n",
      "[Parallel(n_jobs=-1)]: Using backend LokyBackend with 4 concurrent workers.\n",
      "[Parallel(n_jobs=-1)]: Done 1576 tasks      | elapsed:    2.8s\n",
      "[Parallel(n_jobs=-1)]: Done 8476 tasks      | elapsed:   15.6s\n",
      "[Parallel(n_jobs=-1)]: Done 19976 tasks      | elapsed:   36.3s\n",
      "[Parallel(n_jobs=-1)]: Done 36076 tasks      | elapsed:  1.0min\n",
      "[Parallel(n_jobs=-1)]: Done 56776 tasks      | elapsed:  1.6min\n",
      "[Parallel(n_jobs=-1)]: Done 82076 tasks      | elapsed:  2.3min\n",
      "[Parallel(n_jobs=-1)]: Done 100000 out of 100000 | elapsed:  2.8min finished\n",
      "[Parallel(n_jobs=-1)]: Using backend LokyBackend with 4 concurrent workers.\n",
      "[Parallel(n_jobs=-1)]: Done 1228 tasks      | elapsed:    3.5s\n",
      "[Parallel(n_jobs=-1)]: Done 7528 tasks      | elapsed:   16.5s\n",
      "[Parallel(n_jobs=-1)]: Done 18028 tasks      | elapsed:   36.3s\n",
      "[Parallel(n_jobs=-1)]: Done 32728 tasks      | elapsed:  1.1min\n",
      "[Parallel(n_jobs=-1)]: Done 51628 tasks      | elapsed:  1.6min\n",
      "[Parallel(n_jobs=-1)]: Done 74728 tasks      | elapsed:  2.3min\n",
      "[Parallel(n_jobs=-1)]: Done 100000 out of 100000 | elapsed:  3.1min finished\n",
      "[Parallel(n_jobs=-1)]: Using backend LokyBackend with 4 concurrent workers.\n",
      "[Parallel(n_jobs=-1)]: Done 1020 tasks      | elapsed:    1.8s\n",
      "[Parallel(n_jobs=-1)]: Done 6120 tasks      | elapsed:   11.9s\n",
      "[Parallel(n_jobs=-1)]: Done 14620 tasks      | elapsed:   27.9s\n",
      "[Parallel(n_jobs=-1)]: Done 26520 tasks      | elapsed:   47.9s\n",
      "[Parallel(n_jobs=-1)]: Done 41820 tasks      | elapsed:  1.2min\n",
      "[Parallel(n_jobs=-1)]: Done 60520 tasks      | elapsed:  1.8min\n",
      "[Parallel(n_jobs=-1)]: Done 82620 tasks      | elapsed:  2.5min\n",
      "[Parallel(n_jobs=-1)]: Done 100000 out of 100000 | elapsed:  3.1min finished\n",
      "[Parallel(n_jobs=-1)]: Using backend LokyBackend with 4 concurrent workers.\n",
      "[Parallel(n_jobs=-1)]: Done 988 tasks      | elapsed:    1.8s\n",
      "[Parallel(n_jobs=-1)]: Done 6088 tasks      | elapsed:    9.7s\n",
      "[Parallel(n_jobs=-1)]: Done 14588 tasks      | elapsed:   24.9s\n",
      "[Parallel(n_jobs=-1)]: Done 26488 tasks      | elapsed:   44.6s\n",
      "[Parallel(n_jobs=-1)]: Done 41788 tasks      | elapsed:  1.2min\n",
      "[Parallel(n_jobs=-1)]: Done 60488 tasks      | elapsed:  1.7min\n",
      "[Parallel(n_jobs=-1)]: Done 82588 tasks      | elapsed:  2.3min\n",
      "[Parallel(n_jobs=-1)]: Done 100000 out of 100000 | elapsed:  2.7min finished\n",
      "[Parallel(n_jobs=-1)]: Using backend LokyBackend with 4 concurrent workers.\n",
      "[Parallel(n_jobs=-1)]: Done 1816 tasks      | elapsed:    2.9s\n",
      "[Parallel(n_jobs=-1)]: Done 9616 tasks      | elapsed:   15.0s\n",
      "[Parallel(n_jobs=-1)]: Done 22616 tasks      | elapsed:   38.3s\n",
      "[Parallel(n_jobs=-1)]: Done 40816 tasks      | elapsed:  1.1min\n",
      "[Parallel(n_jobs=-1)]: Done 64216 tasks      | elapsed:  1.8min\n",
      "[Parallel(n_jobs=-1)]: Done 92816 tasks      | elapsed:  2.7min\n",
      "[Parallel(n_jobs=-1)]: Done 100000 out of 100000 | elapsed:  2.9min finished\n",
      "[Parallel(n_jobs=-1)]: Using backend LokyBackend with 4 concurrent workers.\n",
      "[Parallel(n_jobs=-1)]: Done 484 tasks      | elapsed:    1.2s\n",
      "[Parallel(n_jobs=-1)]: Done 2584 tasks      | elapsed:    5.7s\n",
      "[Parallel(n_jobs=-1)]: Done 9486 tasks      | elapsed:   20.9s\n",
      "[Parallel(n_jobs=-1)]: Done 19286 tasks      | elapsed:   40.6s\n",
      "[Parallel(n_jobs=-1)]: Done 31886 tasks      | elapsed:  1.2min\n",
      "[Parallel(n_jobs=-1)]: Done 47286 tasks      | elapsed:  1.8min\n",
      "[Parallel(n_jobs=-1)]: Done 65486 tasks      | elapsed:  2.5min\n",
      "[Parallel(n_jobs=-1)]: Done 86486 tasks      | elapsed:  3.2min\n",
      "[Parallel(n_jobs=-1)]: Done 100000 out of 100000 | elapsed:  3.7min finished\n",
      "[Parallel(n_jobs=-1)]: Using backend LokyBackend with 4 concurrent workers.\n",
      "[Parallel(n_jobs=-1)]: Done 764 tasks      | elapsed:    1.8s\n",
      "[Parallel(n_jobs=-1)]: Done 4664 tasks      | elapsed:   10.0s\n",
      "[Parallel(n_jobs=-1)]: Done 11164 tasks      | elapsed:   25.0s\n",
      "[Parallel(n_jobs=-1)]: Done 20264 tasks      | elapsed:   45.7s\n",
      "[Parallel(n_jobs=-1)]: Done 31964 tasks      | elapsed:  1.2min\n",
      "[Parallel(n_jobs=-1)]: Done 46264 tasks      | elapsed:  1.8min\n",
      "[Parallel(n_jobs=-1)]: Done 63164 tasks      | elapsed:  2.4min\n",
      "[Parallel(n_jobs=-1)]: Done 82664 tasks      | elapsed:  3.1min\n",
      "[Parallel(n_jobs=-1)]: Done 100000 out of 100000 | elapsed:  3.7min finished\n",
      "[Parallel(n_jobs=-1)]: Using backend LokyBackend with 4 concurrent workers.\n",
      "[Parallel(n_jobs=-1)]: Done 892 tasks      | elapsed:    1.9s\n",
      "[Parallel(n_jobs=-1)]: Done 4792 tasks      | elapsed:   10.3s\n",
      "[Parallel(n_jobs=-1)]: Done 11292 tasks      | elapsed:   24.0s\n",
      "[Parallel(n_jobs=-1)]: Done 20392 tasks      | elapsed:   45.0s\n",
      "[Parallel(n_jobs=-1)]: Done 32092 tasks      | elapsed:  1.2min\n",
      "[Parallel(n_jobs=-1)]: Done 46392 tasks      | elapsed:  1.8min\n",
      "[Parallel(n_jobs=-1)]: Done 63292 tasks      | elapsed:  2.4min\n",
      "[Parallel(n_jobs=-1)]: Done 82792 tasks      | elapsed:  3.1min\n",
      "[Parallel(n_jobs=-1)]: Done 100000 out of 100000 | elapsed:  3.8min finished\n",
      "[Parallel(n_jobs=-1)]: Using backend LokyBackend with 4 concurrent workers.\n",
      "[Parallel(n_jobs=-1)]: Done 552 tasks      | elapsed:    1.5s\n",
      "[Parallel(n_jobs=-1)]: Done 2952 tasks      | elapsed:    7.3s\n",
      "[Parallel(n_jobs=-1)]: Done 6952 tasks      | elapsed:   16.9s\n",
      "[Parallel(n_jobs=-1)]: Done 12552 tasks      | elapsed:   30.3s\n",
      "[Parallel(n_jobs=-1)]: Done 19752 tasks      | elapsed:   48.3s\n",
      "[Parallel(n_jobs=-1)]: Done 28552 tasks      | elapsed:  1.1min\n",
      "[Parallel(n_jobs=-1)]: Done 38952 tasks      | elapsed:  1.5min\n",
      "[Parallel(n_jobs=-1)]: Done 50952 tasks      | elapsed:  2.0min\n",
      "[Parallel(n_jobs=-1)]: Done 64552 tasks      | elapsed:  2.5min\n",
      "[Parallel(n_jobs=-1)]: Done 79752 tasks      | elapsed:  3.1min\n",
      "[Parallel(n_jobs=-1)]: Done 96552 tasks      | elapsed:  3.8min\n",
      "[Parallel(n_jobs=-1)]: Done 100000 out of 100000 | elapsed:  3.9min finished\n",
      "[Parallel(n_jobs=-1)]: Using backend LokyBackend with 4 concurrent workers.\n"
     ]
    },
    {
     "name": "stderr",
     "output_type": "stream",
     "text": [
      "[Parallel(n_jobs=-1)]: Done 1160 tasks      | elapsed:    2.7s\n",
      "[Parallel(n_jobs=-1)]: Done 7160 tasks      | elapsed:   17.6s\n",
      "[Parallel(n_jobs=-1)]: Done 17160 tasks      | elapsed:   40.0s\n",
      "[Parallel(n_jobs=-1)]: Done 31160 tasks      | elapsed:  1.2min\n",
      "[Parallel(n_jobs=-1)]: Done 49160 tasks      | elapsed:  1.8min\n",
      "[Parallel(n_jobs=-1)]: Done 71160 tasks      | elapsed:  2.7min\n",
      "[Parallel(n_jobs=-1)]: Done 97160 tasks      | elapsed:  3.7min\n",
      "[Parallel(n_jobs=-1)]: Done 100000 out of 100000 | elapsed:  3.8min finished\n",
      "[Parallel(n_jobs=-1)]: Using backend LokyBackend with 4 concurrent workers.\n",
      "[Parallel(n_jobs=-1)]: Done 644 tasks      | elapsed:    1.9s\n",
      "[Parallel(n_jobs=-1)]: Done 3944 tasks      | elapsed:    9.9s\n",
      "[Parallel(n_jobs=-1)]: Done 9444 tasks      | elapsed:   24.0s\n",
      "[Parallel(n_jobs=-1)]: Done 17144 tasks      | elapsed:   43.0s\n",
      "[Parallel(n_jobs=-1)]: Done 27044 tasks      | elapsed:  1.1min\n",
      "[Parallel(n_jobs=-1)]: Done 39144 tasks      | elapsed:  1.6min\n",
      "[Parallel(n_jobs=-1)]: Done 53444 tasks      | elapsed:  2.1min\n",
      "[Parallel(n_jobs=-1)]: Done 69944 tasks      | elapsed:  2.7min\n",
      "[Parallel(n_jobs=-1)]: Done 88644 tasks      | elapsed:  3.5min\n",
      "[Parallel(n_jobs=-1)]: Done 100000 out of 100000 | elapsed:  4.0min finished\n",
      "[Parallel(n_jobs=-1)]: Using backend LokyBackend with 4 concurrent workers.\n",
      "[Parallel(n_jobs=-1)]: Done 1358 tasks      | elapsed:    3.4s\n",
      "[Parallel(n_jobs=-1)]: Done 6758 tasks      | elapsed:   16.0s\n",
      "[Parallel(n_jobs=-1)]: Done 15758 tasks      | elapsed:   38.1s\n",
      "[Parallel(n_jobs=-1)]: Done 28358 tasks      | elapsed:  1.2min\n",
      "[Parallel(n_jobs=-1)]: Done 44558 tasks      | elapsed:  1.8min\n",
      "[Parallel(n_jobs=-1)]: Done 64358 tasks      | elapsed:  2.6min\n",
      "[Parallel(n_jobs=-1)]: Done 87758 tasks      | elapsed:  3.6min\n",
      "[Parallel(n_jobs=-1)]: Done 100000 out of 100000 | elapsed:  4.1min finished\n",
      "[Parallel(n_jobs=-1)]: Using backend LokyBackend with 4 concurrent workers.\n",
      "[Parallel(n_jobs=-1)]: Done 620 tasks      | elapsed:    1.7s\n",
      "[Parallel(n_jobs=-1)]: Done 3320 tasks      | elapsed:    9.2s\n",
      "[Parallel(n_jobs=-1)]: Done 7820 tasks      | elapsed:   21.6s\n",
      "[Parallel(n_jobs=-1)]: Done 14120 tasks      | elapsed:   37.0s\n",
      "[Parallel(n_jobs=-1)]: Done 22220 tasks      | elapsed:   56.4s\n",
      "[Parallel(n_jobs=-1)]: Done 32120 tasks      | elapsed:  1.3min\n",
      "[Parallel(n_jobs=-1)]: Done 43820 tasks      | elapsed:  1.8min\n",
      "[Parallel(n_jobs=-1)]: Done 57320 tasks      | elapsed:  2.4min\n",
      "[Parallel(n_jobs=-1)]: Done 72620 tasks      | elapsed:  3.0min\n",
      "[Parallel(n_jobs=-1)]: Done 89720 tasks      | elapsed:  3.8min\n",
      "[Parallel(n_jobs=-1)]: Done 100000 out of 100000 | elapsed:  4.2min finished\n",
      "[Parallel(n_jobs=-1)]: Using backend LokyBackend with 4 concurrent workers.\n",
      "[Parallel(n_jobs=-1)]: Done 756 tasks      | elapsed:    2.1s\n",
      "[Parallel(n_jobs=-1)]: Done 4056 tasks      | elapsed:   10.6s\n",
      "[Parallel(n_jobs=-1)]: Done 9556 tasks      | elapsed:   23.4s\n",
      "[Parallel(n_jobs=-1)]: Done 17256 tasks      | elapsed:   43.0s\n",
      "[Parallel(n_jobs=-1)]: Done 27156 tasks      | elapsed:  1.2min\n",
      "[Parallel(n_jobs=-1)]: Done 39256 tasks      | elapsed:  1.8min\n",
      "[Parallel(n_jobs=-1)]: Done 53556 tasks      | elapsed:  2.4min\n",
      "[Parallel(n_jobs=-1)]: Done 70056 tasks      | elapsed:  3.1min\n",
      "[Parallel(n_jobs=-1)]: Done 88756 tasks      | elapsed:  4.0min\n",
      "[Parallel(n_jobs=-1)]: Done 100000 out of 100000 | elapsed:  4.4min finished\n",
      "[Parallel(n_jobs=-1)]: Using backend LokyBackend with 4 concurrent workers.\n",
      "[Parallel(n_jobs=-1)]: Done 656 tasks      | elapsed:    1.9s\n",
      "[Parallel(n_jobs=-1)]: Done 3356 tasks      | elapsed:    8.3s\n",
      "[Parallel(n_jobs=-1)]: Done 7856 tasks      | elapsed:   20.7s\n",
      "[Parallel(n_jobs=-1)]: Done 14156 tasks      | elapsed:   38.0s\n",
      "[Parallel(n_jobs=-1)]: Done 22256 tasks      | elapsed:   59.7s\n",
      "[Parallel(n_jobs=-1)]: Done 32156 tasks      | elapsed:  1.4min\n",
      "[Parallel(n_jobs=-1)]: Done 43856 tasks      | elapsed:  1.9min\n",
      "[Parallel(n_jobs=-1)]: Done 57356 tasks      | elapsed:  2.5min\n",
      "[Parallel(n_jobs=-1)]: Done 72656 tasks      | elapsed:  3.2min\n",
      "[Parallel(n_jobs=-1)]: Done 89756 tasks      | elapsed:  4.0min\n",
      "[Parallel(n_jobs=-1)]: Done 100000 out of 100000 | elapsed:  4.4min finished\n",
      "[Parallel(n_jobs=-1)]: Using backend LokyBackend with 4 concurrent workers.\n",
      "[Parallel(n_jobs=-1)]: Done 484 tasks      | elapsed:    1.5s\n",
      "[Parallel(n_jobs=-1)]: Done 2584 tasks      | elapsed:    7.4s\n",
      "[Parallel(n_jobs=-1)]: Done 6084 tasks      | elapsed:   17.2s\n",
      "[Parallel(n_jobs=-1)]: Done 10984 tasks      | elapsed:   31.1s\n",
      "[Parallel(n_jobs=-1)]: Done 17284 tasks      | elapsed:   48.9s\n",
      "[Parallel(n_jobs=-1)]: Done 24984 tasks      | elapsed:  1.2min\n",
      "[Parallel(n_jobs=-1)]: Done 34084 tasks      | elapsed:  1.6min\n",
      "[Parallel(n_jobs=-1)]: Done 44584 tasks      | elapsed:  2.0min\n",
      "[Parallel(n_jobs=-1)]: Done 56484 tasks      | elapsed:  2.6min\n",
      "[Parallel(n_jobs=-1)]: Done 69784 tasks      | elapsed:  3.2min\n",
      "[Parallel(n_jobs=-1)]: Done 84484 tasks      | elapsed:  3.8min\n",
      "[Parallel(n_jobs=-1)]: Done 100000 out of 100000 | elapsed:  4.5min finished\n",
      "[Parallel(n_jobs=-1)]: Using backend LokyBackend with 4 concurrent workers.\n",
      "[Parallel(n_jobs=-1)]: Done 868 tasks      | elapsed:    2.6s\n",
      "[Parallel(n_jobs=-1)]: Done 5368 tasks      | elapsed:   14.0s\n",
      "[Parallel(n_jobs=-1)]: Done 12868 tasks      | elapsed:   32.8s\n",
      "[Parallel(n_jobs=-1)]: Done 23368 tasks      | elapsed:  1.0min\n",
      "[Parallel(n_jobs=-1)]: Done 36868 tasks      | elapsed:  1.6min\n",
      "[Parallel(n_jobs=-1)]: Done 53368 tasks      | elapsed:  2.3min\n",
      "[Parallel(n_jobs=-1)]: Done 72868 tasks      | elapsed:  3.2min\n",
      "[Parallel(n_jobs=-1)]: Done 95368 tasks      | elapsed:  4.2min\n",
      "[Parallel(n_jobs=-1)]: Done 100000 out of 100000 | elapsed:  4.4min finished\n",
      "[Parallel(n_jobs=-1)]: Using backend LokyBackend with 4 concurrent workers.\n",
      "[Parallel(n_jobs=-1)]: Done 1092 tasks      | elapsed:    2.6s\n",
      "[Parallel(n_jobs=-1)]: Done 6792 tasks      | elapsed:   17.7s\n",
      "[Parallel(n_jobs=-1)]: Done 16292 tasks      | elapsed:   42.4s\n",
      "[Parallel(n_jobs=-1)]: Done 29592 tasks      | elapsed:  1.3min\n",
      "[Parallel(n_jobs=-1)]: Done 46692 tasks      | elapsed:  2.0min\n",
      "[Parallel(n_jobs=-1)]: Done 67592 tasks      | elapsed:  2.9min\n",
      "[Parallel(n_jobs=-1)]: Done 92292 tasks      | elapsed:  4.0min\n",
      "[Parallel(n_jobs=-1)]: Done 100000 out of 100000 | elapsed:  4.4min finished\n",
      "[Parallel(n_jobs=-1)]: Using backend LokyBackend with 4 concurrent workers.\n",
      "[Parallel(n_jobs=-1)]: Done 1024 tasks      | elapsed:    2.5s\n",
      "[Parallel(n_jobs=-1)]: Done 6424 tasks      | elapsed:   16.7s\n",
      "[Parallel(n_jobs=-1)]: Done 15424 tasks      | elapsed:   39.4s\n",
      "[Parallel(n_jobs=-1)]: Done 28024 tasks      | elapsed:  1.2min\n",
      "[Parallel(n_jobs=-1)]: Done 44224 tasks      | elapsed:  1.9min\n",
      "[Parallel(n_jobs=-1)]: Done 64024 tasks      | elapsed:  2.7min\n",
      "[Parallel(n_jobs=-1)]: Done 87424 tasks      | elapsed:  3.7min\n",
      "[Parallel(n_jobs=-1)]: Done 100000 out of 100000 | elapsed:  4.2min finished\n",
      "[Parallel(n_jobs=-1)]: Using backend LokyBackend with 4 concurrent workers.\n",
      "[Parallel(n_jobs=-1)]: Done 552 tasks      | elapsed:    2.1s\n",
      "[Parallel(n_jobs=-1)]: Done 2952 tasks      | elapsed:    9.7s\n",
      "[Parallel(n_jobs=-1)]: Done 6952 tasks      | elapsed:   21.8s\n",
      "[Parallel(n_jobs=-1)]: Done 12552 tasks      | elapsed:   38.0s\n",
      "[Parallel(n_jobs=-1)]: Done 19752 tasks      | elapsed:   57.5s\n",
      "[Parallel(n_jobs=-1)]: Done 28552 tasks      | elapsed:  1.4min\n",
      "[Parallel(n_jobs=-1)]: Done 38952 tasks      | elapsed:  1.8min\n",
      "[Parallel(n_jobs=-1)]: Done 50952 tasks      | elapsed:  2.4min\n",
      "[Parallel(n_jobs=-1)]: Done 64552 tasks      | elapsed:  3.0min\n",
      "[Parallel(n_jobs=-1)]: Done 79752 tasks      | elapsed:  3.7min\n",
      "[Parallel(n_jobs=-1)]: Done 96552 tasks      | elapsed:  4.4min\n",
      "[Parallel(n_jobs=-1)]: Done 100000 out of 100000 | elapsed:  4.6min finished\n",
      "[Parallel(n_jobs=-1)]: Using backend LokyBackend with 4 concurrent workers.\n",
      "[Parallel(n_jobs=-1)]: Done 756 tasks      | elapsed:    2.0s\n",
      "[Parallel(n_jobs=-1)]: Done 4056 tasks      | elapsed:   10.5s\n",
      "[Parallel(n_jobs=-1)]: Done 9556 tasks      | elapsed:   24.2s\n",
      "[Parallel(n_jobs=-1)]: Done 17256 tasks      | elapsed:   44.6s\n",
      "[Parallel(n_jobs=-1)]: Done 27156 tasks      | elapsed:  1.2min\n",
      "[Parallel(n_jobs=-1)]: Done 39256 tasks      | elapsed:  1.7min\n",
      "[Parallel(n_jobs=-1)]: Done 53556 tasks      | elapsed:  2.3min\n"
     ]
    },
    {
     "name": "stderr",
     "output_type": "stream",
     "text": [
      "[Parallel(n_jobs=-1)]: Done 70056 tasks      | elapsed:  3.0min\n",
      "[Parallel(n_jobs=-1)]: Done 88756 tasks      | elapsed:  3.8min\n",
      "[Parallel(n_jobs=-1)]: Done 100000 out of 100000 | elapsed:  4.4min finished\n",
      "[Parallel(n_jobs=-1)]: Using backend LokyBackend with 4 concurrent workers.\n",
      "[Parallel(n_jobs=-1)]: Done 936 tasks      | elapsed:    2.5s\n",
      "[Parallel(n_jobs=-1)]: Done 5736 tasks      | elapsed:   15.9s\n",
      "[Parallel(n_jobs=-1)]: Done 13736 tasks      | elapsed:   39.2s\n",
      "[Parallel(n_jobs=-1)]: Done 24936 tasks      | elapsed:  1.2min\n",
      "[Parallel(n_jobs=-1)]: Done 39336 tasks      | elapsed:  1.9min\n",
      "[Parallel(n_jobs=-1)]: Done 56936 tasks      | elapsed:  2.7min\n",
      "[Parallel(n_jobs=-1)]: Done 77736 tasks      | elapsed:  3.7min\n",
      "[Parallel(n_jobs=-1)]: Done 100000 out of 100000 | elapsed:  4.7min finished\n",
      "[Parallel(n_jobs=-1)]: Using backend LokyBackend with 4 concurrent workers.\n",
      "[Parallel(n_jobs=-1)]: Done 552 tasks      | elapsed:    1.7s\n",
      "[Parallel(n_jobs=-1)]: Done 2952 tasks      | elapsed:    8.9s\n",
      "[Parallel(n_jobs=-1)]: Done 6952 tasks      | elapsed:   20.2s\n",
      "[Parallel(n_jobs=-1)]: Done 12552 tasks      | elapsed:   37.5s\n",
      "[Parallel(n_jobs=-1)]: Done 19752 tasks      | elapsed:   58.2s\n",
      "[Parallel(n_jobs=-1)]: Done 28552 tasks      | elapsed:  1.4min\n",
      "[Parallel(n_jobs=-1)]: Done 38952 tasks      | elapsed:  1.9min\n",
      "[Parallel(n_jobs=-1)]: Done 50952 tasks      | elapsed:  2.5min\n",
      "[Parallel(n_jobs=-1)]: Done 64552 tasks      | elapsed:  3.1min\n",
      "[Parallel(n_jobs=-1)]: Done 79752 tasks      | elapsed:  3.9min\n",
      "[Parallel(n_jobs=-1)]: Done 96552 tasks      | elapsed:  4.7min\n",
      "[Parallel(n_jobs=-1)]: Done 100000 out of 100000 | elapsed:  4.9min finished\n",
      "[Parallel(n_jobs=-1)]: Using backend LokyBackend with 4 concurrent workers.\n",
      "[Parallel(n_jobs=-1)]: Done 728 tasks      | elapsed:    2.2s\n",
      "[Parallel(n_jobs=-1)]: Done 4328 tasks      | elapsed:   12.7s\n",
      "[Parallel(n_jobs=-1)]: Done 10328 tasks      | elapsed:   29.4s\n",
      "[Parallel(n_jobs=-1)]: Done 18728 tasks      | elapsed:   55.3s\n",
      "[Parallel(n_jobs=-1)]: Done 29528 tasks      | elapsed:  1.4min\n",
      "[Parallel(n_jobs=-1)]: Done 42728 tasks      | elapsed:  2.1min\n",
      "[Parallel(n_jobs=-1)]: Done 58328 tasks      | elapsed:  2.8min\n",
      "[Parallel(n_jobs=-1)]: Done 76328 tasks      | elapsed:  3.7min\n",
      "[Parallel(n_jobs=-1)]: Done 96728 tasks      | elapsed:  4.6min\n",
      "[Parallel(n_jobs=-1)]: Done 100000 out of 100000 | elapsed:  4.8min finished\n"
     ]
    }
   ],
   "source": [
    "results = {}\n",
    "for n_faces in np.arange(2,31):\n",
    "    faces = np.arange(n_faces) + 1\n",
    "    temp = Parallel(n_jobs = -1,\n",
    "                   verbose =1,\n",
    "    )(delayed(experiment)(**{'faces':faces}) for _ in range(n_sims))\n",
    "    temp = np.array(temp)\n",
    "    results[n_faces] = temp\n",
    "results = pd.DataFrame(results)"
   ]
  },
  {
   "cell_type": "code",
   "execution_count": 27,
   "metadata": {},
   "outputs": [],
   "source": [
    "results_to_plot = pd.melt(results,\n",
    "                          id_vars = None,\n",
    "                          value_vars = results.columns,\n",
    "                          var_name = '# faces',\n",
    "                          value_name = 'Times',\n",
    "                          )"
   ]
  },
  {
   "cell_type": "code",
   "execution_count": 35,
   "metadata": {},
   "outputs": [
    {
     "data": {
      "image/png": "[encoded data removed]",
      "text/plain": [
       "<Figure size 360x1080 with 1 Axes>"
      ]
     },
     "metadata": {},
     "output_type": "display_data"
    }
   ],
   "source": [
    "fig,ax = plt.subplots(figsize = (5,15))\n",
    "ax = sns.violinplot(x = 'Times',\n",
    "                    y = '# faces',\n",
    "                    data = results_to_plot,\n",
    "                    orient = 'h',\n",
    "                    ax = ax,\n",
    "                    cut = 0,\n",
    "                    inner = 'quartile',\n",
    "                    )"
   ]
  },
  {
   "cell_type": "code",
   "execution_count": 39,
   "metadata": {},
   "outputs": [
    {
     "data": {
      "image/png": "[encoded data removed]",
      "text/plain": [
       "<Figure size 1080x360 with 1 Axes>"
      ]
     },
     "metadata": {},
     "output_type": "display_data"
    }
   ],
   "source": [
    "fig,ax = plt.subplots(figsize = (15,5))\n",
    "ax = sns.barplot(x = '# faces',\n",
    "                 y = 'Times',\n",
    "                 data = results_to_plot,\n",
    "                 estimator = np.median,\n",
    "                 ci = 'sd',\n",
    "                 ax = ax,\n",
    "                )"
   ]
  },
  {
   "cell_type": "code",
   "execution_count": null,
   "metadata": {},
   "outputs": [],
   "source": []
  }
 ],
 "metadata": {
  "kernelspec": {
   "display_name": "Python 3",
   "language": "python",
   "name": "python3"
  },
  "language_info": {
   "codemirror_mode": {
    "name": "ipython",
    "version": 3
   },
   "file_extension": ".py",
   "mimetype": "text/x-python",
   "name": "python",
   "nbconvert_exporter": "python",
   "pygments_lexer": "ipython3",
   "version": "3.7.4"
  }
 },
 "nbformat": 4,
 "nbformat_minor": 2
}
