{
 "cells": [
  {
   "cell_type": "code",
   "execution_count": 1,
   "metadata": {},
   "outputs": [],
   "source": [
    "import numpy as np"
   ]
  },
  {
   "cell_type": "code",
   "execution_count": 3,
   "metadata": {},
   "outputs": [
    {
     "name": "stdout",
     "output_type": "stream",
     "text": [
      "over run! 45/10,1999\n",
      "over run! 45/10,1999\n",
      "over run! 45/10,1999\n"
     ]
    }
   ],
   "source": [
    "n_set = 10 # number of coupons per set\n",
    "n_coupon = 5 # number of coupon sets\n",
    "n_simulation = 3 # number of trials\n",
    "nn = c * n\n",
    "a0 = (n + 1) * [0]\n",
    "\n",
    "m = 4 * n * nn\n",
    "r = range(1,m)\n",
    "s = 0\n",
    "for ii in range(t):\n",
    "    a = a0[:]\n",
    "    k = 0\n",
    "    for j in r:\n",
    "        d = np.random.randint(1,n)\n",
    "        if a[d] < c:\n",
    "            a[d] += 1\n",
    "            k += 1\n",
    "            if k == nn:\n",
    "                break\n",
    "    else:\n",
    "        print('over run! {}/{},{}'.format(k,n,j))"
   ]
  },
  {
   "cell_type": "code",
   "execution_count": null,
   "metadata": {},
   "outputs": [],
   "source": []
  }
 ],
 "metadata": {
  "kernelspec": {
   "display_name": "Python 3",
   "language": "python",
   "name": "python3"
  },
  "language_info": {
   "codemirror_mode": {
    "name": "ipython",
    "version": 3
   },
   "file_extension": ".py",
   "mimetype": "text/x-python",
   "name": "python",
   "nbconvert_exporter": "python",
   "pygments_lexer": "ipython3",
   "version": "3.6.5"
  }
 },
 "nbformat": 4,
 "nbformat_minor": 2
}
