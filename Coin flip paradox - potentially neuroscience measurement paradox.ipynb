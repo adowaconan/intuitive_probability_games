{
 "cells": [
  {
   "cell_type": "code",
   "execution_count": 1,
   "metadata": {},
   "outputs": [],
   "source": [
    "import numpy as np\n",
    "import random\n",
    "import matplotlib.pyplot as plt\n",
    "import seaborn as sns\n",
    "%matplotlib inline\n",
    "import pandas as pd\n",
    "SMALL_SIZE = 14\n",
    "MEDIUM_SIZE = 16\n",
    "BIGGER_SIZE = 18\n",
    "\n",
    "plt.rc('font', size=SMALL_SIZE)          # controls default text sizes\n",
    "plt.rc('axes', titlesize=SMALL_SIZE)     # fontsize of the axes title\n",
    "plt.rc('axes', labelsize=MEDIUM_SIZE)    # fontsize of the x and y labels\n",
    "plt.rc('xtick', labelsize=SMALL_SIZE)    # fontsize of the tick labels\n",
    "plt.rc('ytick', labelsize=SMALL_SIZE)    # fontsize of the tick labels\n",
    "plt.rc('legend', fontsize=SMALL_SIZE)    # legend fontsize\n",
    "plt.rc('figure', titlesize=BIGGER_SIZE)  # fontsize of the figure title"
   ]
  },
  {
   "cell_type": "code",
   "execution_count": 2,
   "metadata": {},
   "outputs": [],
   "source": [
    "def coin(pocket='bias',p=0.7,size=100):\n",
    "    if pocket == 'fair':\n",
    "        outcome = np.random.choice(['H','T'],size=size,p=[.5,.5])\n",
    "        return outcome,pocket,p\n",
    "    elif pocket == 'bias':\n",
    "        outcome = []\n",
    "        for ii in range(size):\n",
    "            select = np.random.choice(['Head bias','Tail bias'],size=1,p=[.5,.5])\n",
    "            #print(select)\n",
    "            if select == 'Head bias':\n",
    "                outcome.append(np.random.choice(['H','T'],size=1,p=[p,1-p])[0])\n",
    "                \n",
    "            elif select == 'Tail bias':\n",
    "                outcome.append(np.random.choice(['H','T'],size=1,p=[1-p,p])[0])\n",
    "        return np.array(outcome),pocket,p        \n",
    "    else:\n",
    "        print('Specify if the coin is bias or fair')\n",
    "        return None"
   ]
  },
  {
   "cell_type": "code",
   "execution_count": 3,
   "metadata": {
    "scrolled": true
   },
   "outputs": [],
   "source": [
    "results=[];Head_counts=[];pocket_picked=[]\n",
    "n_flips=1000;\n",
    "for ii in range(500):\n",
    "    get_pocket = np.random.choice(['fair','bias'],size=1,p=[.5,.5])\n",
    "    outcomes = coin(pocket=get_pocket,size=n_flips,p=0.9)\n",
    "    Head_count = pd.DataFrame({'outcome':outcomes[0]})['outcome'].map({'T':0,'H':1}).sum()\n",
    "    results.append(outcomes)\n",
    "    Head_counts.append(Head_count)\n",
    "    pocket_picked.append(get_pocket[0])"
   ]
  },
  {
   "cell_type": "code",
   "execution_count": 10,
   "metadata": {},
   "outputs": [],
   "source": [
    "df = pd.DataFrame({'proportion of heads':np.array(Head_counts)/n_flips,'pocket_picked':pocket_picked})"
   ]
  },
  {
   "cell_type": "code",
   "execution_count": 12,
   "metadata": {},
   "outputs": [
    {
     "data": {
      "text/plain": [
       "<seaborn.axisgrid.FacetGrid at 0x2c276341710>"
      ]
     },
     "execution_count": 12,
     "metadata": {},
     "output_type": "execute_result"
    },
    {
     "data": {
      "image/png": "[encoded data removed]",
      "text/plain": [
       "<matplotlib.figure.Figure at 0x2c2784ed080>"
      ]
     },
     "metadata": {},
     "output_type": "display_data"
    }
   ],
   "source": [
    "g = sns.FacetGrid(row='pocket_picked',data=df,size=3,aspect=2)\n",
    "g.map(plt.hist,'proportion of heads')"
   ]
  },
  {
   "cell_type": "code",
   "execution_count": null,
   "metadata": {},
   "outputs": [],
   "source": []
  }
 ],
 "metadata": {
  "kernelspec": {
   "display_name": "Python 3",
   "language": "python",
   "name": "python3"
  },
  "language_info": {
   "codemirror_mode": {
    "name": "ipython",
    "version": 3
   },
   "file_extension": ".py",
   "mimetype": "text/x-python",
   "name": "python",
   "nbconvert_exporter": "python",
   "pygments_lexer": "ipython3",
   "version": "3.5.2"
  }
 },
 "nbformat": 4,
 "nbformat_minor": 1
}
