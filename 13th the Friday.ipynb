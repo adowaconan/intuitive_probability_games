{
 "cells": [
  {
   "cell_type": "markdown",
   "metadata": {},
   "source": [
    "# [Inspired by this solution to compare the probability of a Friday lands on 13th day of a month. ](http://www.stats.uwo.ca/faculty/aim/epubs/Friday13/friday13.htm)"
   ]
  },
  {
   "cell_type": "code",
   "execution_count": null,
   "metadata": {
    "collapsed": false
   },
   "outputs": [],
   "source": [
    "import numpy as np\n",
    "import random\n",
    "import matplotlib.pyplot as plt\n",
    "import matplotlib\n",
    "%matplotlib inline\n",
    "matplotlib.rcParams.update({'font.size': 16})"
   ]
  },
  {
   "cell_type": "markdown",
   "metadata": {},
   "source": [
    "**The Term Ergodic .** The term ergodic is used in statistical physics, Markov chain theory and in time series analysis. In time series analysis, we say a covariance stationary time series is ergodic in the mean if the sample mean converges as the length of the time series increases to the mean over the distribution the ensemble or sample space of all possible time series. In Markov chain theory, a chain is said to be erodic if a limiting distribution exists for the states. In statistical physics, the ergodic hypothesis states for a gas in equilibrium, all states have an equal probability of realization. Our use of the term borrows from the usage in statistical physics. In simpler language, nonergodic really just means not equally probable. "
   ]
  },
  {
   "cell_type": "markdown",
   "metadata": {},
   "source": [
    "**Nonergodic property of Friday 13th .** A surprising property of our calendar is that not all days of the week have equal chance of being the 13th of the month if you consider the long-run. For example, if you randomly select the 13th day of any month from all years between say 2,000 AD and 1,000,000,000,000 AD then the probability that it is Friday is exactly 43/300 which is slightly larger than 1/7. Moreover, in the long-run, the 13-th of the month has a higher probability of falling on a Friday than any other weekday. "
   ]
  },
  {
   "cell_type": "markdown",
   "metadata": {},
   "source": [
    "**Our Calendar Cycles .** In the long-run, not every day of the week is equally probable of occurring on a given calendar date like the 13th of the month. The reason for this is due to the leap year effect which causes our calendar system to exactly cycle every 400 years and to the particular lengths chosen for our months. To show that the calendar cycles every 400 years, we compute the number of days in 400 years and note that it is divisible by 7. "
   ]
  },
  {
   "cell_type": "code",
   "execution_count": null,
   "metadata": {
    "collapsed": false
   },
   "outputs": [],
   "source": [
    "a = 365 * 400 + 100 - 3\n",
    "print('Calenday cycles over 400 years: %d' %(a) )\n",
    "k = a % 7\n",
    "print('Dvided by 7? %s'%(k == 0))"
   ]
  },
  {
   "cell_type": "code",
   "execution_count": null,
   "metadata": {
    "collapsed": false
   },
   "outputs": [],
   "source": [
    "WeekDays = ['Mon', 'Tue', 'Wed', 'Thu', 'Fri', 'Sat','Sun']\n",
    "from datetime import date\n",
    "import calendar\n",
    "from datetime import datetime"
   ]
  },
  {
   "cell_type": "code",
   "execution_count": null,
   "metadata": {
    "collapsed": false
   },
   "outputs": [],
   "source": [
    "# example\n",
    "# Monday is 0 and Sunday is 6.\n",
    "calendar.day_name[datetime.strptime('1-Jan-2000','%d-%b-%Y').weekday()]"
   ]
  },
  {
   "cell_type": "code",
   "execution_count": null,
   "metadata": {
    "collapsed": false
   },
   "outputs": [],
   "source": [
    "months = ['Jan','Feb','Mar','Apr','May','Jun','Jul','Aug','Sep','Oct','Nov','Dec']\n",
    "day13 = np.zeros((7,1)); year13 = np.zeros((400,7));total = 0\n",
    "for ii in range(400):\n",
    "    for jj in range(len(months)):\n",
    "        year = 2000 + ii -1 \n",
    "        date_str = '%s-13-%d' %(months[jj],year)\n",
    "        jday = datetime.strptime(date_str,'%b-%d-%Y').weekday()\n",
    "        day13[jday] = day13[jday] + 1\n",
    "        year13[ii,jday] = year13[ii,jday] + 1\n",
    "        total += 1\n",
    "        \n",
    "print(WeekDays,'\\n',day13.T)"
   ]
  },
  {
   "cell_type": "markdown",
   "metadata": {},
   "source": [
    "So we see there are a total of 688 Friday the 13ths and the next highest is 687 for Wednesday. The total number 13ths is 400*12 or 4800. So the exact probability of Friday the 13th is 688/4800=43/300. We compute the probabilities and plot them: "
   ]
  },
  {
   "cell_type": "code",
   "execution_count": null,
   "metadata": {
    "collapsed": false
   },
   "outputs": [],
   "source": [
    "prob13 = day13 / 4800\n",
    "fig, ax = plt.subplots(figsize=(16,8))\n",
    "ax.bar(np.arange(len(prob13)),prob13,align='center')\n",
    "ax.set(ylim=(0.1424,0.1434),xticks = np.arange(len(prob13)),\n",
    "       xticklabels=WeekDays,\n",
    "       xlabel='Day',ylabel='probability',\n",
    "       title='Probability of a given weekday being on the 13th',\n",
    "       )\n",
    "ax.axhline(y=1/7,color='red',linewidth=2)\n",
    "ax.annotate('1/7 = %.6f'%float(1/7),xy=(0,0.1429),fontsize=16)"
   ]
  },
  {
   "cell_type": "markdown",
   "metadata": {},
   "source": [
    "Next we investigate the distribution of weekdays which fall on the 13th on the month. At first glance it would seem that every year could have 13 possibilities for the number of Sunday the 13ths, ..., Friday the 13ths, etc. viz. (0, 1, ... , 12). So we count the number of times each weekday occurs on the 13th of the month in the array "
   ]
  },
  {
   "cell_type": "code",
   "execution_count": null,
   "metadata": {
    "collapsed": false
   },
   "outputs": [],
   "source": [
    "dis13 = np.zeros((7,13))\n",
    "for ii in range(400):\n",
    "    for jj in range(7):\n",
    "        nij = year13[ii,jj]\n",
    "        dis13[jj,nij] = dis13[jj,nij] + nij\n",
    "print(dis13)"
   ]
  },
  {
   "cell_type": "markdown",
   "metadata": {},
   "source": [
    "So for any specific weekday the number of times it can be the 13th in a given year varies from 2 to 4 and for Friday we see that there are respectively 171, 340 and 177 times it occurs 1, 2 or 3 times in a year. Similarly, Saturday occurs 1, 2 or 3 times, 172, 344, 168 times every 400 years. "
   ]
  },
  {
   "cell_type": "markdown",
   "metadata": {},
   "source": [
    "**Next 28 Year Cycle .** Over the next 28 year cycle, the 13-th is equi-probable for each weekday. From the next calculation, each weekday occurs 48 times as the 13-th of the month over this shorter cycle. "
   ]
  },
  {
   "cell_type": "code",
   "execution_count": null,
   "metadata": {
    "collapsed": false
   },
   "outputs": [],
   "source": [
    "np.sum(year13[:28,:],0)"
   ]
  },
  {
   "cell_type": "code",
   "execution_count": null,
   "metadata": {
    "collapsed": false
   },
   "outputs": [],
   "source": [
    "from mpl_toolkits.mplot3d import Axes3D\n",
    "fig,ax1 = plt.subplots(figsize=(16,8))\n",
    "x = np.arange(year13[:28,:].shape[0]) \n",
    "y = np.arange(year13[:28,:].shape[1]) \n",
    "T = ax1.pcolormesh(year13[:28,:].T,cmap = plt.cm.Blues)\n",
    "cbar = plt.colorbar(T)\n",
    "cbar.set_ticks([1.,2.,3.])\n",
    "cbar.set_ticklabels([1.,2.,3.])\n",
    "_=ax1.set(xticks=(x+0.5)[::5],xticklabels=np.arange(2000,2028)[::5],\n",
    "        yticks=y+0.5,yticklabels=WeekDays,\n",
    "         ylim=(0,7),xlim=(0,year13[:28,:].shape[0]),\n",
    "         xlabel='Year',ylabel='')"
   ]
  },
  {
   "cell_type": "code",
   "execution_count": null,
   "metadata": {
    "collapsed": false
   },
   "outputs": [],
   "source": [
    "fig,axes = plt.subplots(2,7,figsize=(16,8))\n",
    "years = np.arange(2000,2014)\n",
    "for ii, ax in enumerate(axes.flatten()):\n",
    "    _=ax.plot(year13[ii,:],np.arange(len(WeekDays)),'.',markersize=25)\n",
    "    _=ax.set(xticks=[],yticks=[],title=years[ii])\n",
    "_=axes[0,0].set(yticks=np.arange(len(WeekDays)),\n",
    "            yticklabels=WeekDays)\n",
    "_=axes[1,0].set(yticks=np.arange(len(WeekDays)),\n",
    "            yticklabels=WeekDays)"
   ]
  },
  {
   "cell_type": "markdown",
   "metadata": {},
   "source": [
    "**Conclusion .** The statement that Friday the 13th is more probable than any other weekday is only true over the long-run when we consider at least 400 years or more."
   ]
  },
  {
   "cell_type": "code",
   "execution_count": null,
   "metadata": {
    "collapsed": true
   },
   "outputs": [],
   "source": []
  }
 ],
 "metadata": {
  "anaconda-cloud": {},
  "kernelspec": {
   "display_name": "Python [conda root]",
   "language": "python",
   "name": "conda-root-py"
  },
  "language_info": {
   "codemirror_mode": {
    "name": "ipython",
    "version": 3
   },
   "file_extension": ".py",
   "mimetype": "text/x-python",
   "name": "python",
   "nbconvert_exporter": "python",
   "pygments_lexer": "ipython3",
   "version": "3.5.2"
  }
 },
 "nbformat": 4,
 "nbformat_minor": 1
}
