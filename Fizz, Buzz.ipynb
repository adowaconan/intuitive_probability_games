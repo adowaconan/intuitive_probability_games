{
 "cells": [
  {
   "cell_type": "code",
   "execution_count": 2,
   "metadata": {
    "collapsed": false
   },
   "outputs": [],
   "source": [
    "import numpy as np\n",
    "import matplotlib.pyplot as plt\n",
    "%matplotlib inline\n",
    "import random"
   ]
  },
  {
   "cell_type": "code",
   "execution_count": 11,
   "metadata": {
    "collapsed": false
   },
   "outputs": [
    {
     "name": "stdout",
     "output_type": "stream",
     "text": [
      "['1', '2', '3', '4', 'Fizz', '5', '6', 'Buzz', '8', '9', 'Fizz', '10', '11', '12', '13', 'Buzz', 'Fizz', '15', '16', '17', '18', '19', 'Fizz', '20']\n"
     ]
    }
   ],
   "source": [
    "n = 20\n",
    "result = []\n",
    "for ii in np.arange(1,n+1):\n",
    "    if ii % 5 == 0:\n",
    "        result.append('Fizz')\n",
    "    if ii % 7 == 0:\n",
    "        result.append('Buzz')\n",
    "    else:\n",
    "        result.append(str(ii))\n",
    "print(result)"
   ]
  },
  {
   "cell_type": "code",
   "execution_count": 61,
   "metadata": {
    "collapsed": false
   },
   "outputs": [
    {
     "name": "stdout",
     "output_type": "stream",
     "text": [
      "['1', '2', '3', '4', '5', '6', 'clap', 'clap', '8', '9', '10', '11', '12', '13', 'clap', '14', '15', '16', 'clap', '18', '19', '20']\n"
     ]
    }
   ],
   "source": [
    "n = 20\n",
    "result = []\n",
    "for ii in np.arange(1, n+1):\n",
    "    if ii % 7 == 0:\n",
    "        result.append('clap')\n",
    "    if ii % 10 == 7:\n",
    "        result.append('clap')\n",
    "    else:\n",
    "        result.append(str(ii))\n",
    "print(result)"
   ]
  },
  {
   "cell_type": "code",
   "execution_count": 130,
   "metadata": {
    "collapsed": false
   },
   "outputs": [],
   "source": [
    "def clap(target=7,n_trials=100,chances=100):\n",
    "    result=[]\n",
    "    for ii in np.arange(1,n_trials+1):\n",
    "        rolling = np.random.randint(1,chances+1)\n",
    "        if rolling == 1:\n",
    "            print(rolling)\n",
    "            if (ii % target == 0) or ('7' in str(ii)):\n",
    "                result.append(str(ii))\n",
    "                break\n",
    "            else:\n",
    "                result.append(str(ii))\n",
    "            \n",
    "        else:\n",
    "            if (ii % target == 0) or (ii % 10 == target) or ('7' in str(ii)):\n",
    "                result.append('clap')\n",
    "            else:\n",
    "                result.append(str(ii))\n",
    "    return result"
   ]
  },
  {
   "cell_type": "code",
   "execution_count": 134,
   "metadata": {
    "collapsed": false
   },
   "outputs": [
    {
     "name": "stdout",
     "output_type": "stream",
     "text": [
      "1\n",
      "1\n",
      "1\n",
      "1\n",
      "['1', 'clap', '3', 'clap', '5', 'clap', 'clap', 'clap', '9', 'clap', '11', 'clap', '13', 'clap', '15', 'clap', 'clap', 'clap', '19', 'clap', '21', 'clap', '23', 'clap', '25', 'clap', 'clap', 'clap', '29', 'clap', '31', 'clap', '33', 'clap', '35', 'clap', 'clap', 'clap', '39', 'clap', '41', 'clap', '43', 'clap', '45', 'clap', 'clap', 'clap', '49', 'clap', '51', 'clap', '53', 'clap', '55', 'clap', 'clap', 'clap', '59', 'clap', '61', 'clap', '63', 'clap', '65', 'clap', 'clap', 'clap', '69', 'clap', 'clap', 'clap', 'clap', 'clap', 'clap', 'clap', 'clap', 'clap', 'clap', 'clap', '81', 'clap', '83', 'clap', '85', 'clap', 'clap', 'clap', '89', 'clap', '91', 'clap', '93', 'clap', '95', 'clap', 'clap', 'clap', '99', 'clap', '101', 'clap', '103', 'clap', '105', 'clap', 'clap', 'clap', '109', 'clap', '111', 'clap', '113', 'clap', '115', 'clap', 'clap', 'clap', '119', 'clap', '121', 'clap', '123', 'clap', '125', 'clap', 'clap', 'clap', '129', 'clap', '131', 'clap', '133', 'clap', '135', 'clap', 'clap', 'clap', '139', 'clap', '141', 'clap', '143', 'clap', '145', 'clap', 'clap', 'clap', '149', 'clap', '151', 'clap', '153', 'clap', '155', 'clap', 'clap', 'clap', '159', 'clap', '161', 'clap', '163', 'clap', '165', 'clap', 'clap', 'clap', '169', 'clap', 'clap', 'clap', 'clap', 'clap', 'clap', 'clap', 'clap', 'clap', 'clap', 'clap', '181', 'clap', '183', 'clap', '185', 'clap', 'clap', 'clap', '189', 'clap', '191', 'clap', '193', 'clap', '195', 'clap', 'clap', 'clap', '199', 'clap', '201', 'clap', '203', 'clap', '205', 'clap', 'clap', 'clap', '209', 'clap', '211', 'clap', '213', 'clap', '215', 'clap', 'clap', 'clap', '219', 'clap', '221', 'clap', '223', 'clap', '225', 'clap', 'clap', 'clap', '229', 'clap', '231', 'clap', '233', 'clap', '235', 'clap', 'clap', 'clap', '239', 'clap', '241', 'clap', '243', 'clap', '245', 'clap', 'clap', 'clap', '249', 'clap', '251', 'clap', '253', 'clap', '255', 'clap', 'clap', 'clap', '259', 'clap', '261', 'clap', '263', 'clap', '265', 'clap', 'clap', 'clap', '269', 'clap', 'clap', 'clap', 'clap', 'clap', 'clap', 'clap', 'clap', 'clap', 'clap', 'clap', '281', 'clap', '283', 'clap', '285', 'clap', 'clap', 'clap', '289', 'clap', '291', 'clap', '293', 'clap', '295', 'clap', 'clap', 'clap', '299', 'clap', '301', 'clap', '303', 'clap', '305', 'clap', 'clap', 'clap', '309', 'clap', '311', 'clap', '313', 'clap', '315', 'clap', 'clap', 'clap', '319', 'clap', '321', 'clap', '323', 'clap', '325', 'clap', 'clap', 'clap', '329', 'clap', '331', 'clap', '333', 'clap', '335', 'clap', 'clap', 'clap', '339', 'clap', '341', '342']\n"
     ]
    }
   ],
   "source": [
    "result = clap(2,1000,100)\n",
    "print(result)"
   ]
  },
  {
   "cell_type": "code",
   "execution_count": null,
   "metadata": {
    "collapsed": true
   },
   "outputs": [],
   "source": []
  }
 ],
 "metadata": {
  "anaconda-cloud": {},
  "kernelspec": {
   "display_name": "Python [Root]",
   "language": "python",
   "name": "Python [Root]"
  },
  "language_info": {
   "codemirror_mode": {
    "name": "ipython",
    "version": 3
   },
   "file_extension": ".py",
   "mimetype": "text/x-python",
   "name": "python",
   "nbconvert_exporter": "python",
   "pygments_lexer": "ipython3",
   "version": "3.5.1"
  }
 },
 "nbformat": 4,
 "nbformat_minor": 0
}
