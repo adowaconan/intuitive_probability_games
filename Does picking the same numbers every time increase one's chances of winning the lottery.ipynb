{
 "cells": [
  {
   "cell_type": "markdown",
   "metadata": {},
   "source": [
    "# [Does picking the same numbers every time increase one's chances of winning the lottery?](https://www.reddit.com/r/probabilitytheory/comments/g772eo/does_picking_the_same_numbers_every_time_increase/)"
   ]
  },
  {
   "cell_type": "code",
   "execution_count": 1,
   "metadata": {},
   "outputs": [],
   "source": [
    "import numpy as np\n",
    "import pandas as pd\n",
    "import seaborn as sns\n",
    "\n",
    "from joblib import parallel,delayed\n",
    "\n",
    "from matplotlib import pyplot as plt\n",
    "%matplotlib inline\n",
    "\n",
    "sns.set_style('whitegrid')\n",
    "sns.set_context('poster')"
   ]
  },
  {
   "cell_type": "markdown",
   "metadata": {},
   "source": [
    "# let's just look at a 3-choice game"
   ]
  },
  {
   "cell_type": "code",
   "execution_count": 2,
   "metadata": {},
   "outputs": [
    {
     "name": "stdout",
     "output_type": "stream",
     "text": [
      "0.33527\n"
     ]
    }
   ],
   "source": [
    "n = 3\n",
    "pick = 1\n",
    "n_sim = int(1e5)\n",
    "games = np.random.choice(np.arange(n),size = n_sim,)\n",
    "p_win = np.sum(games == pick) / n_sim\n",
    "print(p_win)"
   ]
  },
  {
   "cell_type": "code",
   "execution_count": 3,
   "metadata": {},
   "outputs": [
    {
     "name": "stdout",
     "output_type": "stream",
     "text": [
      "0.33435\n"
     ]
    }
   ],
   "source": [
    "n = 3\n",
    "n_sim = int(1e5)\n",
    "games = np.random.choice(np.arange(n),size = n_sim,)\n",
    "picks = np.random.choice(np.arange(n),size = n_sim,)\n",
    "p_win = np.sum(games == picks) / n_sim\n",
    "print(p_win)"
   ]
  },
  {
   "cell_type": "code",
   "execution_count": 4,
   "metadata": {},
   "outputs": [],
   "source": [
    "def fixed(n,n_sim = int(1e5)):\n",
    "    pick = 1\n",
    "    games = np.random.choice(np.arange(n),size = n_sim,)\n",
    "    p_fix = np.sum(games == pick) / n_sim\n",
    "    return p_fix\n",
    "\n",
    "def random(n, n_sim = int(1e5)):\n",
    "    games = np.random.choice(np.arange(n),size = n_sim,)\n",
    "    picks = np.random.choice(np.arange(n),size = n_sim,)\n",
    "    p_random = np.sum(games == picks) / n_sim\n",
    "    return p_random"
   ]
  },
  {
   "cell_type": "code",
   "execution_count": 22,
   "metadata": {},
   "outputs": [],
   "source": [
    "results = dict(n = [],\n",
    "               p = [],\n",
    "               fixed = [],\n",
    "               )\n",
    "for n in np.arange(3,int(1e4) + 1,):\n",
    "    # fixed choice\n",
    "    #for _ in range(int(1e2)):\n",
    "    p_fix = fixed(n)\n",
    "    results['n'].append(n)\n",
    "    results['p'].append(p_fix)\n",
    "    results['fixed'].append(True)\n",
    "    \n",
    "    # random pick\n",
    "    #for _ in range(int(1e2)):\n",
    "    p_random = random(n)\n",
    "    results['n'].append(n+.1)\n",
    "    results['p'].append(p_random)\n",
    "    results['fixed'].append(False)\n",
    "results = pd.DataFrame(results)"
   ]
  },
  {
   "cell_type": "code",
   "execution_count": 23,
   "metadata": {},
   "outputs": [
    {
     "data": {
      "image/png": "[encoded data removed]",
      "text/plain": [
       "<Figure size 1152x360 with 1 Axes>"
      ]
     },
     "metadata": {
      "needs_background": "light"
     },
     "output_type": "display_data"
    }
   ],
   "source": [
    "fig,ax = plt.subplots(figsize = (16,5))\n",
    "ax = sns.lineplot(x = 'n',\n",
    "                   y = 'p',\n",
    "                   hue = 'fixed',\n",
    "                   data = results,\n",
    "                   ci = 'sd',\n",
    "                   seed = 12345,\n",
    "                   alpha = .7,\n",
    "                   ax = ax,\n",
    "                   )"
   ]
  },
  {
   "cell_type": "code",
   "execution_count": null,
   "metadata": {},
   "outputs": [],
   "source": []
  }
 ],
 "metadata": {
  "kernelspec": {
   "display_name": "Python 3",
   "language": "python",
   "name": "python3"
  },
  "language_info": {
   "codemirror_mode": {
    "name": "ipython",
    "version": 3
   },
   "file_extension": ".py",
   "mimetype": "text/x-python",
   "name": "python",
   "nbconvert_exporter": "python",
   "pygments_lexer": "ipython3",
   "version": "3.7.4"
  }
 },
 "nbformat": 4,
 "nbformat_minor": 2
}
