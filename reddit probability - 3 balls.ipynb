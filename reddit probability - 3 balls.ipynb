{
 "cells": [
  {
   "cell_type": "code",
   "execution_count": 1,
   "metadata": {},
   "outputs": [],
   "source": [
    "import numpy as np\n",
    "import pandas as pd\n",
    "\n",
    "from matplotlib import pyplot as plt\n",
    "%matplotlib inline\n",
    "\n",
    "import seaborn as sns\n",
    "sns.set_context('poster')"
   ]
  },
  {
   "cell_type": "code",
   "execution_count": 2,
   "metadata": {},
   "outputs": [
    {
     "data": {
      "image/png": "[encoded data removed]",
      "text/plain": [
       "<Figure size 576x288 with 1 Axes>"
      ]
     },
     "metadata": {
      "needs_background": "light"
     },
     "output_type": "display_data"
    }
   ],
   "source": [
    "def roll(n = 3):\n",
    "    return np.random.choice(np.arange(n),size = 1)[0]\n",
    "\n",
    "# test:\n",
    "res = np.array([roll() for _ in range(int(1e5))])\n",
    "fig,ax = plt.subplots(figsize = (8,4))\n",
    "_=ax.hist(res,bins = 100,)"
   ]
  },
  {
   "cell_type": "code",
   "execution_count": 3,
   "metadata": {},
   "outputs": [
    {
     "name": "stdout",
     "output_type": "stream",
     "text": [
      "p(bob wins) = 0.331\n",
      "p(emma wins) = 0.330\n"
     ]
    }
   ],
   "source": [
    "n_sim = int(1e5)\n",
    "n = 3\n",
    "bob = np.random.choice(np.arange(n),size = n_sim,)\n",
    "emma = np.random.choice(np.arange(n-1),size = n_sim,)\n",
    "\n",
    "game = np.random.choice(np.arange(n),size = n_sim,)\n",
    "\n",
    "match_bob = np.sum(bob == game,) / n_sim\n",
    "match_emma = np.sum(emma == game,) / n_sim\n",
    "\n",
    "print(f'p(bob wins) = {match_bob:.3f}')\n",
    "print(f'p(emma wins) = {match_emma:.3f}')"
   ]
  },
  {
   "cell_type": "markdown",
   "metadata": {},
   "source": [
    "# I can also just list out all the possibilities"
   ]
  },
  {
   "cell_type": "code",
   "execution_count": null,
   "metadata": {},
   "outputs": [],
   "source": []
  }
 ],
 "metadata": {
  "kernelspec": {
   "display_name": "Python 3",
   "language": "python",
   "name": "python3"
  },
  "language_info": {
   "codemirror_mode": {
    "name": "ipython",
    "version": 3
   },
   "file_extension": ".py",
   "mimetype": "text/x-python",
   "name": "python",
   "nbconvert_exporter": "python",
   "pygments_lexer": "ipython3",
   "version": "3.7.4"
  }
 },
 "nbformat": 4,
 "nbformat_minor": 2
}
