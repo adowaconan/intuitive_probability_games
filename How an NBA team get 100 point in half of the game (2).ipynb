{
 "cells": [
  {
   "cell_type": "code",
   "execution_count": 57,
   "metadata": {},
   "outputs": [],
   "source": [
    "import numpy as np\n",
    "import pandas as pd\n",
    "import matplotlib.pyplot as plt\n",
    "from tqdm import tqdm\n",
    "from sklearn.utils import shuffle\n",
    "%matplotlib inline"
   ]
  },
  {
   "cell_type": "code",
   "execution_count": 2,
   "metadata": {},
   "outputs": [
    {
     "data": {
      "text/plain": [
       "(array([ 25.,  93., 127., 241., 193., 190.,  91.,  21.,  12.,   7.]),\n",
       " array([ 9. , 11.6, 14.2, 16.8, 19.4, 22. , 24.6, 27.2, 29.8, 32.4, 35. ]),\n",
       " <a list of 10 Patch objects>)"
      ]
     },
     "execution_count": 2,
     "metadata": {},
     "output_type": "execute_result"
    },
    {
     "data": {
      "image/png": "[encoded data removed]",
      "text/plain": [
       "<matplotlib.figure.Figure at 0x1c2e083af98>"
      ]
     },
     "metadata": {},
     "output_type": "display_data"
    }
   ],
   "source": [
    "interval = 20 # on average, make a score every 20 seconds\n",
    "n = 1000\n",
    "samples = np.random.poisson(lam=interval,size=n)\n",
    "plt.hist(samples)"
   ]
  },
  {
   "cell_type": "code",
   "execution_count": 3,
   "metadata": {
    "scrolled": true
   },
   "outputs": [],
   "source": [
    "game_time = 24 * 60 # 24 minutes per half game and 60 seconds in one minute\n",
    "game_played = 0\n",
    "interval = 20\n",
    "intervals = []\n",
    "points = []\n",
    "two_point_percentage = 0.45\n",
    "three_point_percentage = 0.37\n",
    "game_style = 0.5 # less than 0.5 means that a team tends to shot more 2's, while higher than 0.5 means a team like 3's more\n",
    "while game_time - game_played > 0:\n",
    "    temp_pace = np.random.poisson(lam=interval,size=1)[0]\n",
    "    intervals.append(temp_pace)\n",
    "    game_played += temp_pace\n",
    "    \n",
    "    shot_selection = np.random.binomial(1,game_style,size=1)[0]\n",
    "    if shot_selection == 0:\n",
    "        point_ = np.random.binomial(1,two_point_percentage,size=1)[0] * 2\n",
    "    elif shot_selection == 1:\n",
    "        point_ = np.random.binomial(1,three_point_percentage,size=1)[0] * 3\n",
    "    #print(shot_selection,point_)\n",
    "    points.append(point_)"
   ]
  },
  {
   "cell_type": "code",
   "execution_count": 4,
   "metadata": {},
   "outputs": [
    {
     "name": "stdout",
     "output_type": "stream",
     "text": [
      "how often they take the shot (sec): [29 26 24 18 17 19 21 22 17 14 21 28 19 16 18 19 16 24 25 19 19 21 20 27\n",
      " 14 20 19 17 14 16 25 18 17 22 16 22 19 21 20 16 25 20 18 24 20 20 26 19\n",
      " 23 13 19 19 21 20 20 15 26 31 18 22 24 13 22 20 29 15 12 21 18 15 21 11\n",
      " 25] \n",
      "what is the score each time [0 0 0 0 0 2 0 0 2 2 2 2 3 0 0 3 0 0 0 0 0 0 0 2 0 3 0 0 0 2 0 0 0 3 3 3 0\n",
      " 3 0 0 0 2 0 0 0 3 0 0 2 2 3 3 0 0 0 2 0 0 2 0 3 0 0 0 0 0 2 3 2 2 0 0 0] \n",
      "total scores 66\n"
     ]
    }
   ],
   "source": [
    "intervals = np.array(intervals)\n",
    "points = np.array(points)\n",
    "print('how often they take the shot (sec):',intervals,'\\nwhat is the score each time',points,'\\ntotal scores',np.sum(points))"
   ]
  },
  {
   "cell_type": "markdown",
   "metadata": {},
   "source": [
    "Looks good, and let's make it a function."
   ]
  },
  {
   "cell_type": "code",
   "execution_count": 5,
   "metadata": {},
   "outputs": [],
   "source": [
    "def simulate_a_half_game(interval=20,two_point_percentage=0.3,three_point_percentage=0.3,):\n",
    "    game_time = 24 * 60 # 24 minutes per half game and 60 seconds in one minute\n",
    "    game_played = 0\n",
    "    interval = 20\n",
    "    intervals = []\n",
    "    points = []\n",
    "    two_point_percentage = 0.45\n",
    "    three_point_percentage = 0.37\n",
    "    game_style = 0.5 # less than 0.5 means that a team tends to shot more 2's, while higher than 0.5 means a team like 3's more\n",
    "    while game_time - game_played > 0:\n",
    "        temp_pace = np.random.poisson(lam=interval,size=1)[0]\n",
    "        intervals.append(temp_pace)\n",
    "        game_played += temp_pace\n",
    "\n",
    "        shot_selection = np.random.binomial(1,game_style,size=1)[0]\n",
    "        if shot_selection == 0:\n",
    "            point_ = np.random.binomial(1,two_point_percentage,size=1)[0] * 2\n",
    "        elif shot_selection == 1:\n",
    "            point_ = np.random.binomial(1,three_point_percentage,size=1)[0] * 3\n",
    "        #print(shot_selection,point_)\n",
    "        points.append(point_)\n",
    "    return intervals,points"
   ]
  },
  {
   "cell_type": "code",
   "execution_count": 6,
   "metadata": {},
   "outputs": [
    {
     "name": "stderr",
     "output_type": "stream",
     "text": [
      "100%|███████████████████████████████| 1000000/1000000 [23:16<00:00, 716.23it/s]\n"
     ]
    }
   ],
   "source": [
    "results = []\n",
    "n = 1e6\n",
    "for n in tqdm(range(int(n))):\n",
    "    interval = np.random.uniform(11,35,size=1)[0]\n",
    "    two_point_percentage = np.random.uniform(25,80,size=1)[0]\n",
    "    three_point_percentage = np.random.uniform(10,60,size=1)[0]\n",
    "    intervals,points=simulate_a_half_game(interval,two_point_percentage,three_point_percentage)\n",
    "    #print(intervals,points)\n",
    "    intervals_mean=np.mean(intervals)\n",
    "    intervals_std = np.std(intervals)\n",
    "    points = np.array(points)\n",
    "    field_goal_percentage=np.sum(points!=0)/len(points)\n",
    "    three_point_percentage_ = np.sum(points==3)/len(points)\n",
    "    scores = np.sum(points)\n",
    "    results.append([intervals_mean,intervals_std,\n",
    "                   field_goal_percentage,\n",
    "                   three_point_percentage_,\n",
    "                   scores])"
   ]
  },
  {
   "cell_type": "code",
   "execution_count": 7,
   "metadata": {},
   "outputs": [],
   "source": [
    "df = pd.DataFrame(results,columns=['pace_mean',\n",
    "                                  'pace_std',\n",
    "                                  'field_goal',\n",
    "                                  'three_point',\n",
    "                                  'scores'])"
   ]
  },
  {
   "cell_type": "code",
   "execution_count": 8,
   "metadata": {
    "scrolled": true
   },
   "outputs": [],
   "source": [
    "df['labels'] = np.array(df['scores']>=100,dtype=int)"
   ]
  },
  {
   "cell_type": "code",
   "execution_count": 9,
   "metadata": {},
   "outputs": [],
   "source": [
    "df.to_csv('nba simulation.csv',index=False)"
   ]
  },
  {
   "cell_type": "code",
   "execution_count": 10,
   "metadata": {},
   "outputs": [],
   "source": [
    "df = pd.read_csv('nba simulation.csv')"
   ]
  },
  {
   "cell_type": "raw",
   "metadata": {},
   "source": [
    "scores,per,pval = permutation_test_score(clf,X,y,cv=cv,\n",
    "                                         n_permutations=50,\n",
    "                                         random_state=12345) "
   ]
  },
  {
   "cell_type": "code",
   "execution_count": 21,
   "metadata": {},
   "outputs": [],
   "source": [
    "ddf = df[df['labels']==1]"
   ]
  },
  {
   "cell_type": "code",
   "execution_count": 22,
   "metadata": {},
   "outputs": [
    {
     "data": {
      "text/plain": [
       "(array([   3.,   73.,  364., 1242., 2216., 2201., 1328.,  452.,  121.,\n",
       "          17.]),\n",
       " array([17.83950617, 18.2129085 , 18.58631082, 18.95971314, 19.33311547,\n",
       "        19.70651779, 20.07992012, 20.45332244, 20.82672476, 21.20012709,\n",
       "        21.57352941]),\n",
       " <a list of 10 Patch objects>)"
      ]
     },
     "execution_count": 22,
     "metadata": {},
     "output_type": "execute_result"
    },
    {
     "data": {
      "image/png": "[encoded data removed]",
      "text/plain": [
       "<matplotlib.figure.Figure at 0x1c2f7d81e48>"
      ]
     },
     "metadata": {},
     "output_type": "display_data"
    }
   ],
   "source": [
    "plt.hist(ddf['pace_mean'])"
   ]
  },
  {
   "cell_type": "code",
   "execution_count": 27,
   "metadata": {},
   "outputs": [
    {
     "name": "stderr",
     "output_type": "stream",
     "text": [
      "C:\\Anaconda3\\lib\\site-packages\\ipykernel_launcher.py:1: SettingWithCopyWarning: \n",
      "A value is trying to be set on a copy of a slice from a DataFrame.\n",
      "Try using .loc[row_indexer,col_indexer] = value instead\n",
      "\n",
      "See the caveats in the documentation: http://pandas.pydata.org/pandas-docs/stable/indexing.html#indexing-view-versus-copy\n",
      "  \"\"\"Entry point for launching an IPython kernel.\n"
     ]
    }
   ],
   "source": [
    "ddf['pace']=pd.qcut(ddf['pace_mean'].values,3,labels=['fast','median','slow'])"
   ]
  },
  {
   "cell_type": "code",
   "execution_count": 17,
   "metadata": {},
   "outputs": [],
   "source": [
    "import seaborn as sns"
   ]
  },
  {
   "cell_type": "code",
   "execution_count": 30,
   "metadata": {},
   "outputs": [
    {
     "data": {
      "text/plain": [
       "<seaborn.axisgrid.FacetGrid at 0x1c2f6730a90>"
      ]
     },
     "execution_count": 30,
     "metadata": {},
     "output_type": "execute_result"
    },
    {
     "data": {
      "image/png": "[encoded data removed]",
      "text/plain": [
       "<matplotlib.figure.Figure at 0x1c2f6435cf8>"
      ]
     },
     "metadata": {},
     "output_type": "display_data"
    }
   ],
   "source": [
    "sns.lmplot(x='field_goal',y='three_point',hue='pace',data=ddf,fit_reg=True)"
   ]
  },
  {
   "cell_type": "code",
   "execution_count": 46,
   "metadata": {},
   "outputs": [],
   "source": [
    "from sklearn.ensemble import RandomForestClassifier,VotingClassifier\n",
    "from sklearn.svm import SVC\n",
    "from sklearn.linear_model import LogisticRegressionCV\n",
    "from sklearn.naive_bayes import GaussianNB\n",
    "from sklearn.tree import DecisionTreeClassifier\n",
    "from sklearn.model_selection import StratifiedShuffleSplit,permutation_test_score\n",
    "from imblearn.pipeline import Pipeline,make_pipeline\n",
    "from imblearn.combine import SMOTEENN\n",
    "\n",
    "rfc = RandomForestClassifier(n_estimators=50,random_state=12345)\n",
    "svc = SVC(probability=True,random_state=12345)\n",
    "log = LogisticRegressionCV(np.logspace(-3,3,7),max_iter=int(1e3),\n",
    "                          random_state=12345)\n",
    "bay = GaussianNB()\n",
    "tre = DecisionTreeClassifier(random_state=12345)\n",
    "cv = StratifiedShuffleSplit(n_splits=10,random_state=12345)\n",
    "sam = SMOTEENN(random_state=12345)\n",
    "clf = []\n",
    "clf.append(('sampler',sam))\n",
    "voter = VotingClassifier([('random forest',rfc),\n",
    "                          ('SVC',svc),\n",
    "                          ('logistic',log),\n",
    "                          ('naive bayes',bay),\n",
    "                          ('tree',tre)],voting='soft')\n",
    "clf.append(('estimator',voter))\n",
    "clf = make_pipeline(sam,voter)\n"
   ]
  },
  {
   "cell_type": "code",
   "execution_count": 47,
   "metadata": {},
   "outputs": [],
   "source": [
    "size = len(ddf)\n",
    "df_99 = df[df['labels']==0]\n",
    "df_99 = df_99.sample(n=size,replace=False,axis=0)\n",
    "df_99['pace']=pd.qcut(df_99['pace_mean'].values,3,labels=['fast','median','slow'])"
   ]
  },
  {
   "cell_type": "code",
   "execution_count": 48,
   "metadata": {},
   "outputs": [],
   "source": [
    "data = pd.concat([ddf,df_99])"
   ]
  },
  {
   "cell_type": "code",
   "execution_count": 84,
   "metadata": {},
   "outputs": [
    {
     "data": {
      "text/plain": [
       "((16034, 4), (16034,))"
      ]
     },
     "execution_count": 84,
     "metadata": {},
     "output_type": "execute_result"
    }
   ],
   "source": [
    "X = data[['pace_mean', 'pace_std', 'field_goal', 'three_point']].values\n",
    "y = data['labels'].values\n",
    "X,y = shuffle(X,y)\n",
    "X = X.reshape(-1,4)\n",
    "y = y.reshape(-1,1).ravel()\n",
    "X.shape,y.shape"
   ]
  },
  {
   "cell_type": "code",
   "execution_count": 86,
   "metadata": {
    "scrolled": true
   },
   "outputs": [
    {
     "name": "stderr",
     "output_type": "stream",
     "text": [
      "C:\\Anaconda3\\lib\\site-packages\\sklearn\\preprocessing\\label.py:151: DeprecationWarning: The truth value of an empty array is ambiguous. Returning False, but in future this will result in an error. Use `array.size > 0` to check that an array is not empty.\n",
      "  if diff:\n",
      "C:\\Anaconda3\\lib\\site-packages\\sklearn\\preprocessing\\label.py:151: DeprecationWarning: The truth value of an empty array is ambiguous. Returning False, but in future this will result in an error. Use `array.size > 0` to check that an array is not empty.\n",
      "  if diff:\n",
      "C:\\Anaconda3\\lib\\site-packages\\sklearn\\preprocessing\\label.py:151: DeprecationWarning: The truth value of an empty array is ambiguous. Returning False, but in future this will result in an error. Use `array.size > 0` to check that an array is not empty.\n",
      "  if diff:\n"
     ]
    },
    {
     "name": "stdout",
     "output_type": "stream",
     "text": [
      "             precision    recall  f1-score   support\n",
      "\n",
      "          0       1.00      0.99      1.00       802\n",
      "          1       0.99      1.00      1.00       802\n",
      "\n",
      "avg / total       1.00      1.00      1.00      1604\n",
      "\n"
     ]
    },
    {
     "name": "stderr",
     "output_type": "stream",
     "text": [
      "C:\\Anaconda3\\lib\\site-packages\\sklearn\\preprocessing\\label.py:151: DeprecationWarning: The truth value of an empty array is ambiguous. Returning False, but in future this will result in an error. Use `array.size > 0` to check that an array is not empty.\n",
      "  if diff:\n",
      "C:\\Anaconda3\\lib\\site-packages\\sklearn\\preprocessing\\label.py:151: DeprecationWarning: The truth value of an empty array is ambiguous. Returning False, but in future this will result in an error. Use `array.size > 0` to check that an array is not empty.\n",
      "  if diff:\n",
      "C:\\Anaconda3\\lib\\site-packages\\sklearn\\preprocessing\\label.py:151: DeprecationWarning: The truth value of an empty array is ambiguous. Returning False, but in future this will result in an error. Use `array.size > 0` to check that an array is not empty.\n",
      "  if diff:\n"
     ]
    },
    {
     "name": "stdout",
     "output_type": "stream",
     "text": [
      "             precision    recall  f1-score   support\n",
      "\n",
      "          0       1.00      0.99      1.00       802\n",
      "          1       0.99      1.00      1.00       802\n",
      "\n",
      "avg / total       1.00      1.00      1.00      1604\n",
      "\n"
     ]
    },
    {
     "name": "stderr",
     "output_type": "stream",
     "text": [
      "C:\\Anaconda3\\lib\\site-packages\\sklearn\\preprocessing\\label.py:151: DeprecationWarning: The truth value of an empty array is ambiguous. Returning False, but in future this will result in an error. Use `array.size > 0` to check that an array is not empty.\n",
      "  if diff:\n",
      "C:\\Anaconda3\\lib\\site-packages\\sklearn\\preprocessing\\label.py:151: DeprecationWarning: The truth value of an empty array is ambiguous. Returning False, but in future this will result in an error. Use `array.size > 0` to check that an array is not empty.\n",
      "  if diff:\n",
      "C:\\Anaconda3\\lib\\site-packages\\sklearn\\preprocessing\\label.py:151: DeprecationWarning: The truth value of an empty array is ambiguous. Returning False, but in future this will result in an error. Use `array.size > 0` to check that an array is not empty.\n",
      "  if diff:\n"
     ]
    },
    {
     "name": "stdout",
     "output_type": "stream",
     "text": [
      "             precision    recall  f1-score   support\n",
      "\n",
      "          0       1.00      1.00      1.00       802\n",
      "          1       1.00      1.00      1.00       802\n",
      "\n",
      "avg / total       1.00      1.00      1.00      1604\n",
      "\n"
     ]
    },
    {
     "name": "stderr",
     "output_type": "stream",
     "text": [
      "C:\\Anaconda3\\lib\\site-packages\\sklearn\\preprocessing\\label.py:151: DeprecationWarning: The truth value of an empty array is ambiguous. Returning False, but in future this will result in an error. Use `array.size > 0` to check that an array is not empty.\n",
      "  if diff:\n",
      "C:\\Anaconda3\\lib\\site-packages\\sklearn\\preprocessing\\label.py:151: DeprecationWarning: The truth value of an empty array is ambiguous. Returning False, but in future this will result in an error. Use `array.size > 0` to check that an array is not empty.\n",
      "  if diff:\n",
      "C:\\Anaconda3\\lib\\site-packages\\sklearn\\preprocessing\\label.py:151: DeprecationWarning: The truth value of an empty array is ambiguous. Returning False, but in future this will result in an error. Use `array.size > 0` to check that an array is not empty.\n",
      "  if diff:\n"
     ]
    },
    {
     "name": "stdout",
     "output_type": "stream",
     "text": [
      "             precision    recall  f1-score   support\n",
      "\n",
      "          0       1.00      1.00      1.00       802\n",
      "          1       1.00      1.00      1.00       802\n",
      "\n",
      "avg / total       1.00      1.00      1.00      1604\n",
      "\n"
     ]
    },
    {
     "name": "stderr",
     "output_type": "stream",
     "text": [
      "C:\\Anaconda3\\lib\\site-packages\\sklearn\\preprocessing\\label.py:151: DeprecationWarning: The truth value of an empty array is ambiguous. Returning False, but in future this will result in an error. Use `array.size > 0` to check that an array is not empty.\n",
      "  if diff:\n",
      "C:\\Anaconda3\\lib\\site-packages\\sklearn\\preprocessing\\label.py:151: DeprecationWarning: The truth value of an empty array is ambiguous. Returning False, but in future this will result in an error. Use `array.size > 0` to check that an array is not empty.\n",
      "  if diff:\n",
      "C:\\Anaconda3\\lib\\site-packages\\sklearn\\preprocessing\\label.py:151: DeprecationWarning: The truth value of an empty array is ambiguous. Returning False, but in future this will result in an error. Use `array.size > 0` to check that an array is not empty.\n",
      "  if diff:\n"
     ]
    },
    {
     "name": "stdout",
     "output_type": "stream",
     "text": [
      "             precision    recall  f1-score   support\n",
      "\n",
      "          0       1.00      0.99      1.00       802\n",
      "          1       0.99      1.00      1.00       802\n",
      "\n",
      "avg / total       1.00      1.00      1.00      1604\n",
      "\n"
     ]
    },
    {
     "name": "stderr",
     "output_type": "stream",
     "text": [
      "C:\\Anaconda3\\lib\\site-packages\\sklearn\\preprocessing\\label.py:151: DeprecationWarning: The truth value of an empty array is ambiguous. Returning False, but in future this will result in an error. Use `array.size > 0` to check that an array is not empty.\n",
      "  if diff:\n",
      "C:\\Anaconda3\\lib\\site-packages\\sklearn\\preprocessing\\label.py:151: DeprecationWarning: The truth value of an empty array is ambiguous. Returning False, but in future this will result in an error. Use `array.size > 0` to check that an array is not empty.\n",
      "  if diff:\n",
      "C:\\Anaconda3\\lib\\site-packages\\sklearn\\preprocessing\\label.py:151: DeprecationWarning: The truth value of an empty array is ambiguous. Returning False, but in future this will result in an error. Use `array.size > 0` to check that an array is not empty.\n",
      "  if diff:\n"
     ]
    },
    {
     "name": "stdout",
     "output_type": "stream",
     "text": [
      "             precision    recall  f1-score   support\n",
      "\n",
      "          0       1.00      0.99      1.00       802\n",
      "          1       0.99      1.00      1.00       802\n",
      "\n",
      "avg / total       1.00      1.00      1.00      1604\n",
      "\n"
     ]
    },
    {
     "name": "stderr",
     "output_type": "stream",
     "text": [
      "C:\\Anaconda3\\lib\\site-packages\\sklearn\\preprocessing\\label.py:151: DeprecationWarning: The truth value of an empty array is ambiguous. Returning False, but in future this will result in an error. Use `array.size > 0` to check that an array is not empty.\n",
      "  if diff:\n",
      "C:\\Anaconda3\\lib\\site-packages\\sklearn\\preprocessing\\label.py:151: DeprecationWarning: The truth value of an empty array is ambiguous. Returning False, but in future this will result in an error. Use `array.size > 0` to check that an array is not empty.\n",
      "  if diff:\n",
      "C:\\Anaconda3\\lib\\site-packages\\sklearn\\preprocessing\\label.py:151: DeprecationWarning: The truth value of an empty array is ambiguous. Returning False, but in future this will result in an error. Use `array.size > 0` to check that an array is not empty.\n",
      "  if diff:\n"
     ]
    },
    {
     "name": "stdout",
     "output_type": "stream",
     "text": [
      "             precision    recall  f1-score   support\n",
      "\n",
      "          0       1.00      1.00      1.00       802\n",
      "          1       1.00      1.00      1.00       802\n",
      "\n",
      "avg / total       1.00      1.00      1.00      1604\n",
      "\n"
     ]
    },
    {
     "name": "stderr",
     "output_type": "stream",
     "text": [
      "C:\\Anaconda3\\lib\\site-packages\\sklearn\\preprocessing\\label.py:151: DeprecationWarning: The truth value of an empty array is ambiguous. Returning False, but in future this will result in an error. Use `array.size > 0` to check that an array is not empty.\n",
      "  if diff:\n",
      "C:\\Anaconda3\\lib\\site-packages\\sklearn\\preprocessing\\label.py:151: DeprecationWarning: The truth value of an empty array is ambiguous. Returning False, but in future this will result in an error. Use `array.size > 0` to check that an array is not empty.\n",
      "  if diff:\n",
      "C:\\Anaconda3\\lib\\site-packages\\sklearn\\preprocessing\\label.py:151: DeprecationWarning: The truth value of an empty array is ambiguous. Returning False, but in future this will result in an error. Use `array.size > 0` to check that an array is not empty.\n",
      "  if diff:\n"
     ]
    },
    {
     "name": "stdout",
     "output_type": "stream",
     "text": [
      "             precision    recall  f1-score   support\n",
      "\n",
      "          0       1.00      0.99      1.00       802\n",
      "          1       0.99      1.00      1.00       802\n",
      "\n",
      "avg / total       1.00      1.00      1.00      1604\n",
      "\n"
     ]
    },
    {
     "name": "stderr",
     "output_type": "stream",
     "text": [
      "C:\\Anaconda3\\lib\\site-packages\\sklearn\\preprocessing\\label.py:151: DeprecationWarning: The truth value of an empty array is ambiguous. Returning False, but in future this will result in an error. Use `array.size > 0` to check that an array is not empty.\n",
      "  if diff:\n",
      "C:\\Anaconda3\\lib\\site-packages\\sklearn\\preprocessing\\label.py:151: DeprecationWarning: The truth value of an empty array is ambiguous. Returning False, but in future this will result in an error. Use `array.size > 0` to check that an array is not empty.\n",
      "  if diff:\n",
      "C:\\Anaconda3\\lib\\site-packages\\sklearn\\preprocessing\\label.py:151: DeprecationWarning: The truth value of an empty array is ambiguous. Returning False, but in future this will result in an error. Use `array.size > 0` to check that an array is not empty.\n",
      "  if diff:\n"
     ]
    },
    {
     "name": "stdout",
     "output_type": "stream",
     "text": [
      "             precision    recall  f1-score   support\n",
      "\n",
      "          0       1.00      0.99      1.00       802\n",
      "          1       0.99      1.00      1.00       802\n",
      "\n",
      "avg / total       1.00      1.00      1.00      1604\n",
      "\n"
     ]
    },
    {
     "name": "stderr",
     "output_type": "stream",
     "text": [
      "C:\\Anaconda3\\lib\\site-packages\\sklearn\\preprocessing\\label.py:151: DeprecationWarning: The truth value of an empty array is ambiguous. Returning False, but in future this will result in an error. Use `array.size > 0` to check that an array is not empty.\n",
      "  if diff:\n",
      "C:\\Anaconda3\\lib\\site-packages\\sklearn\\preprocessing\\label.py:151: DeprecationWarning: The truth value of an empty array is ambiguous. Returning False, but in future this will result in an error. Use `array.size > 0` to check that an array is not empty.\n",
      "  if diff:\n",
      "C:\\Anaconda3\\lib\\site-packages\\sklearn\\preprocessing\\label.py:151: DeprecationWarning: The truth value of an empty array is ambiguous. Returning False, but in future this will result in an error. Use `array.size > 0` to check that an array is not empty.\n",
      "  if diff:\n"
     ]
    },
    {
     "name": "stdout",
     "output_type": "stream",
     "text": [
      "             precision    recall  f1-score   support\n",
      "\n",
      "          0       1.00      0.99      1.00       802\n",
      "          1       0.99      1.00      1.00       802\n",
      "\n",
      "avg / total       1.00      1.00      1.00      1604\n",
      "\n"
     ]
    }
   ],
   "source": [
    "from sklearn import metrics\n",
    "\n",
    "scores = []\n",
    "for train,test in cv.split(X,y):\n",
    "    voter.fit(X[train],y[train],)\n",
    "    score_ = metrics.roc_auc_score(y[test],clf.predict_proba(X[test])[:,-1])\n",
    "    sen = metrics.precision_score(y[test],clf.predict(X[test]))\n",
    "    sel = metrics.recall_score(y[test],clf.predict(X[test]))\n",
    "    print(metrics.classification_report(y[test],clf.predict(X[test])))\n",
    "    scores.append([score_,sen,sel])"
   ]
  },
  {
   "cell_type": "code",
   "execution_count": null,
   "metadata": {},
   "outputs": [],
   "source": []
  }
 ],
 "metadata": {
  "kernelspec": {
   "display_name": "Python 3",
   "language": "python",
   "name": "python3"
  },
  "language_info": {
   "codemirror_mode": {
    "name": "ipython",
    "version": 3
   },
   "file_extension": ".py",
   "mimetype": "text/x-python",
   "name": "python",
   "nbconvert_exporter": "python",
   "pygments_lexer": "ipython3",
   "version": "3.5.2"
  }
 },
 "nbformat": 4,
 "nbformat_minor": 2
}
