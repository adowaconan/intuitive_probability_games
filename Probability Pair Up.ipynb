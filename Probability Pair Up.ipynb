{
 "cells": [
  {
   "cell_type": "markdown",
   "metadata": {},
   "source": [
    "Imagine there are two decks of cards (of just 11 cards each) laying in front of you. You shuffle each deck. Imagine you pair up one card from each deck one at a time. How would you calculate the probability of choosing the right combination the first time you did it? Imagine the instructor checks the cards and tells you the number of pairs you got correct but does not tell you which pairs. The next time you pair up cards, you are not required to re-shuffle. Does knowing the number you got right on the first draw affect the probabilities? What is the probability of correctly matching all 11 cards within 10 rounds?"
   ]
  },
  {
   "cell_type": "code",
   "execution_count": 1,
   "metadata": {
    "collapsed": true
   },
   "outputs": [],
   "source": [
    "import numpy as np\n",
    "import random\n",
    "import matplotlib.pyplot as plt\n",
    "%matplotlib inline"
   ]
  },
  {
   "cell_type": "code",
   "execution_count": 2,
   "metadata": {
    "collapsed": true
   },
   "outputs": [],
   "source": [
    "A,B = np.arange(11),np.arange(11)\n",
    "for ii in range(100):\n",
    "    random.shuffle(A)\n",
    "    random.shuffle(B)"
   ]
  },
  {
   "cell_type": "code",
   "execution_count": 5,
   "metadata": {
    "collapsed": false
   },
   "outputs": [],
   "source": [
    "prob=[]\n",
    "for do in range(100):\n",
    "    results=[]\n",
    "    for ii in range(500):\n",
    "        result = []\n",
    "        for ii in range(10):\n",
    "            random.shuffle(A)\n",
    "            random.shuffle(B)\n",
    "        for a,b in zip(A,B):\n",
    "            result.append([a,b])\n",
    "        results.append(result)\n",
    "    results = np.array(results)\n",
    "    interesting = results[:,0,:]\n",
    "    counts = interesting[:,0] == interesting[:,1]\n",
    "    prob.append(counts.sum()/500)\n",
    "prob =np.array(prob)"
   ]
  },
  {
   "cell_type": "code",
   "execution_count": 30,
   "metadata": {
    "collapsed": false
   },
   "outputs": [
    {
     "data": {
      "image/png": "[encoded data removed]",
      "text/plain": [
       "<matplotlib.figure.Figure at 0x1e1789e2978>"
      ]
     },
     "metadata": {},
     "output_type": "display_data"
    }
   ],
   "source": [
    "fig, ax = plt.subplots(figsize=(12,8))\n",
    "_=ax.hist(prob)\n",
    "_=ax.errorbar(prob.mean(),15,xerr=prob.std())\n",
    "_=ax.set(xlabel='probability of choosing the right combination the first time you did it',\n",
    "        ylabel='Frequency',title='Probability distribution of simulation')"
   ]
  },
  {
   "cell_type": "code",
   "execution_count": 29,
   "metadata": {
    "collapsed": false
   },
   "outputs": [
    {
     "data": {
      "text/plain": [
       "(0.090059999999999987, 0.011978163465239567)"
      ]
     },
     "execution_count": 29,
     "metadata": {},
     "output_type": "execute_result"
    }
   ],
   "source": [
    "prob.mean(),prob.std()"
   ]
  },
  {
   "cell_type": "code",
   "execution_count": null,
   "metadata": {
    "collapsed": true
   },
   "outputs": [],
   "source": []
  }
 ],
 "metadata": {
  "anaconda-cloud": {},
  "kernelspec": {
   "display_name": "Python [Root]",
   "language": "python",
   "name": "Python [Root]"
  },
  "language_info": {
   "codemirror_mode": {
    "name": "ipython",
    "version": 3
   },
   "file_extension": ".py",
   "mimetype": "text/x-python",
   "name": "python",
   "nbconvert_exporter": "python",
   "pygments_lexer": "ipython3",
   "version": "3.5.1"
  }
 },
 "nbformat": 4,
 "nbformat_minor": 0
}
