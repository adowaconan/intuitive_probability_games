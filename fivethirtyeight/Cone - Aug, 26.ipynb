{
 "cells": [
  {
   "cell_type": "code",
   "execution_count": 1,
   "metadata": {
    "collapsed": true
   },
   "outputs": [],
   "source": [
    "import numpy as np\n",
    "import matplotlib.pyplot as plt\n",
    "%matplotlib inline"
   ]
  },
  {
   "cell_type": "markdown",
   "metadata": {},
   "source": [
    "Cone formula:\n",
    "$$ V = \\pi r^2 \\frac{h}{3}$$\n",
    "Cylinder formula:\n",
    "$$ V = \\pi r^2 h$$"
   ]
  },
  {
   "cell_type": "markdown",
   "metadata": {},
   "source": [
    "Let $A_B$ be the area of the cone's base and H be its height. The volume of the cone is $V_C = (1/3) A_B H$\n",
    "\n",
    "Let the heights of the cake layers be a, b, and c, expressed as percentages of H. the volumes of the three layers are then:\n",
    "$$V_a = ((1-a)^2)A_B) \\cdot aH$$\n",
    "$$V_b = ((1-a-b)^2A_B) \\cdot bH$$\n",
    "$$V_c = ((1-a-b-c)^2A_B) \\cdot cH$$"
   ]
  },
  {
   "cell_type": "markdown",
   "metadata": {},
   "source": [
    "The total volume of the cake, $V_T$ is the sum of the those three. The percentage of the cone the cake files -- the number we want to maximize -- is P\n",
    "$$P = V_T /V_c = 3(a(1-a)^2 + b(1-a-b)^2 + c(1-a-b-c)^2)$$"
   ]
  },
  {
   "cell_type": "code",
   "execution_count": null,
   "metadata": {
    "collapsed": true
   },
   "outputs": [],
   "source": []
  }
 ],
 "metadata": {
  "anaconda-cloud": {},
  "kernelspec": {
   "display_name": "Python [Root]",
   "language": "python",
   "name": "Python [Root]"
  },
  "language_info": {
   "codemirror_mode": {
    "name": "ipython",
    "version": 3
   },
   "file_extension": ".py",
   "mimetype": "text/x-python",
   "name": "python",
   "nbconvert_exporter": "python",
   "pygments_lexer": "ipython3",
   "version": "3.5.1"
  }
 },
 "nbformat": 4,
 "nbformat_minor": 0
}
