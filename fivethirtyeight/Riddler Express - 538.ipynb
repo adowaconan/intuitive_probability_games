{
 "cells": [
  {
   "cell_type": "markdown",
   "metadata": {},
   "source": [
    "From Seth Cohen, a lonely card game puzzle:\n",
    "\n",
    "On snowy afternoons, you like to play a solitaire “game” with a standard, randomly shuffled deck of 52 cards. You start dealing cards face up, one at a time, into a pile. As you deal each card, you also speak aloud, in order, the 13 card faces in a standard deck: ace, two, three, etc. (When you get to king, you start over at ace.) You keep doing this until the rank of the card you deal matches the rank you speak aloud, in which case you lose. You win if you reach the end of the deck without any matches.\n",
    "\n",
    "What is the probability that you win?"
   ]
  },
  {
   "cell_type": "code",
   "execution_count": 16,
   "metadata": {
    "collapsed": true
   },
   "outputs": [],
   "source": [
    "import numpy as np\n",
    "import matplotlib.pyplot as plt\n",
    "from random import shuffle\n",
    "%matplotlib inline"
   ]
  },
  {
   "cell_type": "markdown",
   "metadata": {},
   "source": [
    "Let's play this game 50000 times and see how many times I reach to the end.\n",
    "\n",
    "1. shuffle the deck 5 times (even I shuffle the deck the last time I played)\n",
    "2. start counting, and if I got a match, I mark down the position (out of 52) and stop, and start another round.\n",
    "3. count how many times I reach to 1, 2, ..., 52."
   ]
  },
  {
   "cell_type": "code",
   "execution_count": 17,
   "metadata": {
    "collapsed": false
   },
   "outputs": [],
   "source": [
    "base = np.arange(1,14)\n",
    "allcards = np.repeat(base,4) # new deck, same number will be in together\n",
    "# create a vector that I use to count from 1 to 13 and then back to 1\n",
    "counting = (np.vstack((base,base,base,base))).flatten()\n",
    "simTime = 50000\n",
    "result = []\n",
    "for ii in range(simTime):\n",
    "    shuffle(allcards);shuffle(allcards);shuffle(allcards);shuffle(allcards)\n",
    "    shuffle(allcards)\n",
    "    for position,count in enumerate(counting):\n",
    "        #print(count,',',allcards[position],end='; ')\n",
    "        if count == allcards[position]:\n",
    "            result.append(position+1)\n",
    "            #print('make it to %d' %(position + 1),'finish')\n",
    "            break\n",
    "        else:\n",
    "            continue"
   ]
  },
  {
   "cell_type": "code",
   "execution_count": 18,
   "metadata": {
    "collapsed": false
   },
   "outputs": [
    {
     "name": "stdout",
     "output_type": "stream",
     "text": [
      "[ 1  2  3  4  5  6  7  8  9 10 11 12 13 14 15 16 17 18 19 20 21 22 23 24 25\n",
      " 26 27 28 29 30 31 32 33 34 35 36 37 38 39 40 41 42 43 44 45 46 47 48 49 50\n",
      " 51 52] [3872 3510 3187 2987 2782 2544 2362 2076 2066 1828 1733 1580 1449 1378 1329\n",
      " 1132 1050  946  929  879  806  749  670  609  591  534  539  430  426  406\n",
      "  359  316  299  264  243  239  220  176  198  179  166  154  134  134  110\n",
      "   95   98   77  100   68   67   67]\n"
     ]
    }
   ],
   "source": [
    "unique, counts = np.unique(result, return_counts=True)\n",
    "print(unique,counts)"
   ]
  },
  {
   "cell_type": "markdown",
   "metadata": {},
   "source": [
    "Showed as the figure below, obviously, the number of times I reach to each position is approximately a exponential distribution or a poisson distribution. "
   ]
  },
  {
   "cell_type": "code",
   "execution_count": 19,
   "metadata": {
    "collapsed": false
   },
   "outputs": [
    {
     "data": {
      "image/png": "[encoded data removed]",
      "text/plain": [
       "<matplotlib.figure.Figure at 0x1de46eac240>"
      ]
     },
     "metadata": {},
     "output_type": "display_data"
    }
   ],
   "source": [
    "fig,ax = plt.subplots(figsize=(15,8))\n",
    "ax.bar(unique,counts,align='center')\n",
    "_=ax.set(xlim=(0,53),xticks=unique)"
   ]
  },
  {
   "cell_type": "markdown",
   "metadata": {},
   "source": [
    "Based on what we talked about above, we could simulate this for 500 times, and in each simulation, we play this game 10000 times. In the end, we could have a nice distribution of the probability we will win this game. "
   ]
  },
  {
   "cell_type": "code",
   "execution_count": 20,
   "metadata": {
    "collapsed": true
   },
   "outputs": [],
   "source": [
    "doTime = 500\n",
    "simTime = 10000\n",
    "allResult = []\n",
    "for jj in range(doTime):\n",
    "    result = []\n",
    "    for ii in range(simTime):\n",
    "        shuffle(allcards);shuffle(allcards);shuffle(allcards);shuffle(allcards)\n",
    "        shuffle(allcards)\n",
    "        for position,count in enumerate(counting):\n",
    "            #print(count,',',allcards[position],end='; ')\n",
    "            if count == allcards[position]:\n",
    "                result.append(position+1)\n",
    "                #print('make it to %d' %(position + 1),'finish')\n",
    "                break\n",
    "            else:\n",
    "                continue\n",
    "    unique, counts = np.unique(result, return_counts=True)\n",
    "    allResult.append(counts)"
   ]
  },
  {
   "cell_type": "code",
   "execution_count": 21,
   "metadata": {
    "collapsed": false
   },
   "outputs": [],
   "source": [
    "probs=[]\n",
    "for a in allResult:\n",
    "    prob = a[-1] / np.sum(a)\n",
    "    probs.append(prob)"
   ]
  },
  {
   "cell_type": "code",
   "execution_count": 27,
   "metadata": {
    "collapsed": false
   },
   "outputs": [
    {
     "data": {
      "text/plain": [
       "<matplotlib.legend.Legend at 0x1de46840860>"
      ]
     },
     "execution_count": 27,
     "metadata": {},
     "output_type": "execute_result"
    },
    {
     "data": {
      "image/png": "[encoded data removed]",
      "text/plain": [
       "<matplotlib.figure.Figure at 0x1de475d5828>"
      ]
     },
     "metadata": {},
     "output_type": "display_data"
    }
   ],
   "source": [
    "fig,ax = plt.subplots(figsize=(12,8))\n",
    "_=ax.hist(probs,bins=25)\n",
    "_=ax.axvline(np.mean(probs),color='r',linestyle='--',label='Mean probability to win')\n",
    "_=ax.set(xlabel='Probability to win the gam',ylabel='Frequency',\n",
    "        title='Play the Riddler Express: p = %.4f'%np.mean(probs),)\n",
    "ax.legend(loc='best')"
   ]
  },
  {
   "cell_type": "markdown",
   "metadata": {},
   "source": [
    "It is strange that there are some downs in this distribution and it stays there for same reason. However, I believe the simulation is correct and gives us a nice guess about the winning probability: 0.0013 "
   ]
  },
  {
   "cell_type": "code",
   "execution_count": null,
   "metadata": {
    "collapsed": true
   },
   "outputs": [],
   "source": []
  }
 ],
 "metadata": {
  "kernelspec": {
   "display_name": "Python [Root]",
   "language": "python",
   "name": "Python [Root]"
  },
  "language_info": {
   "codemirror_mode": {
    "name": "ipython",
    "version": 3
   },
   "file_extension": ".py",
   "mimetype": "text/x-python",
   "name": "python",
   "nbconvert_exporter": "python",
   "pygments_lexer": "ipython3",
   "version": "3.5.1"
  }
 },
 "nbformat": 4,
 "nbformat_minor": 0
}
