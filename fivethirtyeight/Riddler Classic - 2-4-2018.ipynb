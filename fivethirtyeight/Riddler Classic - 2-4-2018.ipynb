{
 "cells": [
  {
   "cell_type": "markdown",
   "metadata": {},
   "source": [
    "[From Bob Nasuti, grab your wallet and take a seat:](https://fivethirtyeight.com/features/hark-two-holiday-puzzles/)\n",
    "\n",
    "Consider a game of chance called Left, Right, Center. Everyone sits in a circle and begins with some \\$1 bills. Taking turns, each person rolls three dice. For each die, if you roll a 1 or 2 you give a dollar to the person on your left, if you roll a 3 or 4 you give a dollar to the person on your right, and if you roll a 5 or 6 you put a dollar in the middle. The moment only a single person has any money left, the game ends and that person gets all the money in the center.\n",
    "\n",
    "How long is the game expected to last for six players each starting with three \\$1 bills? For X players each starting with Y $1 bills?"
   ]
  },
  {
   "cell_type": "code",
   "execution_count": 229,
   "metadata": {},
   "outputs": [],
   "source": [
    "import numpy as np\n",
    "import pandas as pd\n",
    "from matplotlib import pyplot as plt\n",
    "from tqdm import tqdm\n",
    "%matplotlib inline"
   ]
  },
  {
   "cell_type": "code",
   "execution_count": 18,
   "metadata": {},
   "outputs": [],
   "source": [
    "outcomes_ = {1:'$1 to left',2:'$1 to left',3:'$1 to right',4:'$1 to right',5:'$1 to middle',6:'$1 to middle'}\n",
    "outcomes_update = {1:[1,-1,0],2:[1,-1,0],3:[0,-1,1],4:[0,-1,1],5:[0,-1,0],6:[0,-1,0]}\n",
    "def dice():\n",
    "    return np.random.choice(np.arange(1,7),size=1,replace=False)[0]"
   ]
  },
  {
   "cell_type": "markdown",
   "metadata": {},
   "source": [
    "# 6 players starting with three \\$1 bills"
   ]
  },
  {
   "cell_type": "code",
   "execution_count": 208,
   "metadata": {},
   "outputs": [],
   "source": [
    "def one_round(initial,count,print_ = False):\n",
    "    for ii,player in enumerate(initial):\n",
    "        left = ii - 1 if (ii - 1 > -1) else len(initial)-1\n",
    "        right = ii + 1 if (ii + 1 <len(initial)) else 0\n",
    "        update_ = initial\n",
    "        #print(update_)\n",
    "        for _ in range(3):\n",
    "            outcome = outcomes_update[dice()]\n",
    "            count += 1\n",
    "            if print_:\n",
    "                print([left,ii,right],outcome)\n",
    "            if update_[ii] + outcome[1] >=0:\n",
    "                update_[ii] = update_[ii] + outcome[1]\n",
    "                update_[left] = update_[left] + outcome[0]\n",
    "                update_[right] = update_[right] + outcome[-1]\n",
    "                if print_:\n",
    "                    print(update_)\n",
    "            else:\n",
    "                pass\n",
    "        initial = update_\n",
    "        if len(np.nonzero(initial)[0])<=1:\n",
    "            #print(initial)\n",
    "            return initial,count\n",
    "            break\n",
    "    else:\n",
    "        return initial,count"
   ]
  },
  {
   "cell_type": "code",
   "execution_count": 224,
   "metadata": {},
   "outputs": [],
   "source": [
    "results = []\n",
    "simulate = int(1e4)\n",
    "for _ in range(simulate):\n",
    "    initial = np.array([m for _ in range(n)])\n",
    "    count = 0\n",
    "    for _ in range(90):\n",
    "        initial,count=one_round(initial,count)\n",
    "        if len(np.nonzero(initial)[0])<=1:\n",
    "            break\n",
    "    \n",
    "    results.append(count)"
   ]
  },
  {
   "cell_type": "code",
   "execution_count": 225,
   "metadata": {},
   "outputs": [
    {
     "name": "stdout",
     "output_type": "stream",
     "text": [
      "3 players each with $3,6.8727+/-2.7991\n"
     ]
    }
   ],
   "source": [
    "print('%d players each with $%d,%.4f+/-%.4f'%(m,n,np.mean(results)/3,np.std(np.array(results)/3)))"
   ]
  },
  {
   "cell_type": "code",
   "execution_count": null,
   "metadata": {},
   "outputs": [
    {
     "name": "stderr",
     "output_type": "stream",
     "text": [
      "simulate: 100%|█████████████████████████| 10000/10000 [00:10<00:00, 973.18it/s]\n",
      "simulate: 100%|█████████████████████████| 10000/10000 [00:17<00:00, 568.30it/s]\n",
      "simulate: 100%|█████████████████████████| 10000/10000 [00:24<00:00, 400.47it/s]\n",
      "simulate:  16%|████▎                     | 1646/10000 [00:05<00:27, 303.91it/s]"
     ]
    }
   ],
   "source": [
    "n_players = np.arange(3,10)\n",
    "n_bills = np.arange(3,15)\n",
    "simulate = int(1e4)\n",
    "results = {}\n",
    "for m in n_players:\n",
    "    for n in n_bills:\n",
    "        results[(m,n)] = []\n",
    "        for _ in tqdm(range(simulate),desc='simulate'):\n",
    "            initial = np.array([m for _ in range(n)])\n",
    "            count = 0\n",
    "            for _ in range(int(1e6)):\n",
    "                initial,count = one_round(initial,count)\n",
    "                if len(np.nonzero(initial)[0]) <=1:\n",
    "                    #print(n,m,'break',end='')\n",
    "                    break\n",
    "            results[(m,n)].append(count)"
   ]
  },
  {
   "cell_type": "code",
   "execution_count": null,
   "metadata": {},
   "outputs": [],
   "source": []
  }
 ],
 "metadata": {
  "kernelspec": {
   "display_name": "Python 3",
   "language": "python",
   "name": "python3"
  },
  "language_info": {
   "codemirror_mode": {
    "name": "ipython",
    "version": 3
   },
   "file_extension": ".py",
   "mimetype": "text/x-python",
   "name": "python",
   "nbconvert_exporter": "python",
   "pygments_lexer": "ipython3",
   "version": "3.5.2"
  }
 },
 "nbformat": 4,
 "nbformat_minor": 2
}
